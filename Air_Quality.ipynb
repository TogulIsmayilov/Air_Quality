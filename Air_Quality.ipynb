{
  "cells": [
    {
      "cell_type": "code",
      "execution_count": 1,
      "metadata": {
        "id": "-A5satlyXOJV"
      },
      "outputs": [],
      "source": [
        "import polars as pl"
      ]
    },
    {
      "cell_type": "code",
      "execution_count": 2,
      "metadata": {
        "colab": {
          "base_uri": "https://localhost:8080/",
          "height": 73
        },
        "id": "xxTWwp7GXP5A",
        "outputId": "57fcb701-769e-46d0-cd9e-83f40eeb58d0"
      },
      "outputs": [
        {
          "data": {
            "text/html": [
              "\n",
              "     <input type=\"file\" id=\"files-026b8f23-06e9-48b7-9ce4-c6f8169d6bf8\" name=\"files[]\" multiple disabled\n",
              "        style=\"border:none\" />\n",
              "     <output id=\"result-026b8f23-06e9-48b7-9ce4-c6f8169d6bf8\">\n",
              "      Upload widget is only available when the cell has been executed in the\n",
              "      current browser session. Please rerun this cell to enable.\n",
              "      </output>\n",
              "      <script>// Copyright 2017 Google LLC\n",
              "//\n",
              "// Licensed under the Apache License, Version 2.0 (the \"License\");\n",
              "// you may not use this file except in compliance with the License.\n",
              "// You may obtain a copy of the License at\n",
              "//\n",
              "//      http://www.apache.org/licenses/LICENSE-2.0\n",
              "//\n",
              "// Unless required by applicable law or agreed to in writing, software\n",
              "// distributed under the License is distributed on an \"AS IS\" BASIS,\n",
              "// WITHOUT WARRANTIES OR CONDITIONS OF ANY KIND, either express or implied.\n",
              "// See the License for the specific language governing permissions and\n",
              "// limitations under the License.\n",
              "\n",
              "/**\n",
              " * @fileoverview Helpers for google.colab Python module.\n",
              " */\n",
              "(function(scope) {\n",
              "function span(text, styleAttributes = {}) {\n",
              "  const element = document.createElement('span');\n",
              "  element.textContent = text;\n",
              "  for (const key of Object.keys(styleAttributes)) {\n",
              "    element.style[key] = styleAttributes[key];\n",
              "  }\n",
              "  return element;\n",
              "}\n",
              "\n",
              "// Max number of bytes which will be uploaded at a time.\n",
              "const MAX_PAYLOAD_SIZE = 100 * 1024;\n",
              "\n",
              "function _uploadFiles(inputId, outputId) {\n",
              "  const steps = uploadFilesStep(inputId, outputId);\n",
              "  const outputElement = document.getElementById(outputId);\n",
              "  // Cache steps on the outputElement to make it available for the next call\n",
              "  // to uploadFilesContinue from Python.\n",
              "  outputElement.steps = steps;\n",
              "\n",
              "  return _uploadFilesContinue(outputId);\n",
              "}\n",
              "\n",
              "// This is roughly an async generator (not supported in the browser yet),\n",
              "// where there are multiple asynchronous steps and the Python side is going\n",
              "// to poll for completion of each step.\n",
              "// This uses a Promise to block the python side on completion of each step,\n",
              "// then passes the result of the previous step as the input to the next step.\n",
              "function _uploadFilesContinue(outputId) {\n",
              "  const outputElement = document.getElementById(outputId);\n",
              "  const steps = outputElement.steps;\n",
              "\n",
              "  const next = steps.next(outputElement.lastPromiseValue);\n",
              "  return Promise.resolve(next.value.promise).then((value) => {\n",
              "    // Cache the last promise value to make it available to the next\n",
              "    // step of the generator.\n",
              "    outputElement.lastPromiseValue = value;\n",
              "    return next.value.response;\n",
              "  });\n",
              "}\n",
              "\n",
              "/**\n",
              " * Generator function which is called between each async step of the upload\n",
              " * process.\n",
              " * @param {string} inputId Element ID of the input file picker element.\n",
              " * @param {string} outputId Element ID of the output display.\n",
              " * @return {!Iterable<!Object>} Iterable of next steps.\n",
              " */\n",
              "function* uploadFilesStep(inputId, outputId) {\n",
              "  const inputElement = document.getElementById(inputId);\n",
              "  inputElement.disabled = false;\n",
              "\n",
              "  const outputElement = document.getElementById(outputId);\n",
              "  outputElement.innerHTML = '';\n",
              "\n",
              "  const pickedPromise = new Promise((resolve) => {\n",
              "    inputElement.addEventListener('change', (e) => {\n",
              "      resolve(e.target.files);\n",
              "    });\n",
              "  });\n",
              "\n",
              "  const cancel = document.createElement('button');\n",
              "  inputElement.parentElement.appendChild(cancel);\n",
              "  cancel.textContent = 'Cancel upload';\n",
              "  const cancelPromise = new Promise((resolve) => {\n",
              "    cancel.onclick = () => {\n",
              "      resolve(null);\n",
              "    };\n",
              "  });\n",
              "\n",
              "  // Wait for the user to pick the files.\n",
              "  const files = yield {\n",
              "    promise: Promise.race([pickedPromise, cancelPromise]),\n",
              "    response: {\n",
              "      action: 'starting',\n",
              "    }\n",
              "  };\n",
              "\n",
              "  cancel.remove();\n",
              "\n",
              "  // Disable the input element since further picks are not allowed.\n",
              "  inputElement.disabled = true;\n",
              "\n",
              "  if (!files) {\n",
              "    return {\n",
              "      response: {\n",
              "        action: 'complete',\n",
              "      }\n",
              "    };\n",
              "  }\n",
              "\n",
              "  for (const file of files) {\n",
              "    const li = document.createElement('li');\n",
              "    li.append(span(file.name, {fontWeight: 'bold'}));\n",
              "    li.append(span(\n",
              "        `(${file.type || 'n/a'}) - ${file.size} bytes, ` +\n",
              "        `last modified: ${\n",
              "            file.lastModifiedDate ? file.lastModifiedDate.toLocaleDateString() :\n",
              "                                    'n/a'} - `));\n",
              "    const percent = span('0% done');\n",
              "    li.appendChild(percent);\n",
              "\n",
              "    outputElement.appendChild(li);\n",
              "\n",
              "    const fileDataPromise = new Promise((resolve) => {\n",
              "      const reader = new FileReader();\n",
              "      reader.onload = (e) => {\n",
              "        resolve(e.target.result);\n",
              "      };\n",
              "      reader.readAsArrayBuffer(file);\n",
              "    });\n",
              "    // Wait for the data to be ready.\n",
              "    let fileData = yield {\n",
              "      promise: fileDataPromise,\n",
              "      response: {\n",
              "        action: 'continue',\n",
              "      }\n",
              "    };\n",
              "\n",
              "    // Use a chunked sending to avoid message size limits. See b/62115660.\n",
              "    let position = 0;\n",
              "    do {\n",
              "      const length = Math.min(fileData.byteLength - position, MAX_PAYLOAD_SIZE);\n",
              "      const chunk = new Uint8Array(fileData, position, length);\n",
              "      position += length;\n",
              "\n",
              "      const base64 = btoa(String.fromCharCode.apply(null, chunk));\n",
              "      yield {\n",
              "        response: {\n",
              "          action: 'append',\n",
              "          file: file.name,\n",
              "          data: base64,\n",
              "        },\n",
              "      };\n",
              "\n",
              "      let percentDone = fileData.byteLength === 0 ?\n",
              "          100 :\n",
              "          Math.round((position / fileData.byteLength) * 100);\n",
              "      percent.textContent = `${percentDone}% done`;\n",
              "\n",
              "    } while (position < fileData.byteLength);\n",
              "  }\n",
              "\n",
              "  // All done.\n",
              "  yield {\n",
              "    response: {\n",
              "      action: 'complete',\n",
              "    }\n",
              "  };\n",
              "}\n",
              "\n",
              "scope.google = scope.google || {};\n",
              "scope.google.colab = scope.google.colab || {};\n",
              "scope.google.colab._files = {\n",
              "  _uploadFiles,\n",
              "  _uploadFilesContinue,\n",
              "};\n",
              "})(self);\n",
              "</script> "
            ],
            "text/plain": [
              "<IPython.core.display.HTML object>"
            ]
          },
          "metadata": {},
          "output_type": "display_data"
        },
        {
          "name": "stdout",
          "output_type": "stream",
          "text": [
            "Saving Air_Quality.csv to Air_Quality.csv\n"
          ]
        }
      ],
      "source": [
        "from google.colab import files\n",
        "uploaded = files.upload()"
      ]
    },
    {
      "cell_type": "code",
      "execution_count": 147,
      "metadata": {
        "id": "E1f-PfTMXZ3y"
      },
      "outputs": [],
      "source": [
        "data=pl.read_csv('Air_Quality.csv')"
      ]
    },
    {
      "cell_type": "code",
      "execution_count": 148,
      "metadata": {
        "colab": {
          "base_uri": "https://localhost:8080/",
          "height": 443
        },
        "id": "Cnt-Bzr2XdVh",
        "outputId": "56b42baf-bbc1-4e57-c52e-735637bf3eb8"
      },
      "outputs": [
        {
          "data": {
            "text/html": [
              "<div><style>\n",
              ".dataframe > thead > tr,\n",
              ".dataframe > tbody > tr {\n",
              "  text-align: right;\n",
              "  white-space: pre-wrap;\n",
              "}\n",
              "</style>\n",
              "<small>shape: (52_704, 10)</small><table border=\"1\" class=\"dataframe\"><thead><tr><th>Date</th><th>City</th><th>CO</th><th>CO2</th><th>NO2</th><th>SO2</th><th>O3</th><th>PM2.5</th><th>PM10</th><th>AQI</th></tr><tr><td>str</td><td>str</td><td>f64</td><td>str</td><td>f64</td><td>f64</td><td>f64</td><td>f64</td><td>f64</td><td>f64</td></tr></thead><tbody><tr><td>&quot;2024-01-01 00:00:00+00:00&quot;</td><td>&quot;Brasilia&quot;</td><td>323.0</td><td>null</td><td>23.8</td><td>2.8</td><td>42.0</td><td>12.0</td><td>17.1</td><td>16.8</td></tr><tr><td>&quot;2024-01-01 01:00:00+00:00&quot;</td><td>&quot;Brasilia&quot;</td><td>318.0</td><td>null</td><td>21.9</td><td>2.7</td><td>40.0</td><td>12.5</td><td>17.9</td><td>16.0</td></tr><tr><td>&quot;2024-01-01 02:00:00+00:00&quot;</td><td>&quot;Brasilia&quot;</td><td>309.0</td><td>null</td><td>19.2</td><td>2.6</td><td>39.0</td><td>12.1</td><td>17.3</td><td>15.599999</td></tr><tr><td>&quot;2024-01-01 03:00:00+00:00&quot;</td><td>&quot;Brasilia&quot;</td><td>295.0</td><td>null</td><td>16.3</td><td>2.4</td><td>38.0</td><td>11.4</td><td>16.2</td><td>15.2</td></tr><tr><td>&quot;2024-01-01 04:00:00+00:00&quot;</td><td>&quot;Brasilia&quot;</td><td>270.0</td><td>null</td><td>13.0</td><td>2.1</td><td>40.0</td><td>10.2</td><td>14.6</td><td>16.0</td></tr><tr><td>&hellip;</td><td>&hellip;</td><td>&hellip;</td><td>&hellip;</td><td>&hellip;</td><td>&hellip;</td><td>&hellip;</td><td>&hellip;</td><td>&hellip;</td><td>&hellip;</td></tr><tr><td>&quot;2024-12-31 19:00:00+00:00&quot;</td><td>&quot;Sydney&quot;</td><td>106.0</td><td>&quot;448.0&quot;</td><td>15.5</td><td>6.4</td><td>26.0</td><td>9.7</td><td>13.0</td><td>19.199997</td></tr><tr><td>&quot;2024-12-31 20:00:00+00:00&quot;</td><td>&quot;Sydney&quot;</td><td>112.0</td><td>&quot;449.0&quot;</td><td>15.7</td><td>8.3</td><td>29.0</td><td>11.1</td><td>13.6</td><td>19.18333</td></tr><tr><td>&quot;2024-12-31 21:00:00+00:00&quot;</td><td>&quot;Sydney&quot;</td><td>115.0</td><td>&quot;449.0&quot;</td><td>14.7</td><td>9.8</td><td>36.0</td><td>11.5</td><td>15.1</td><td>19.274998</td></tr><tr><td>&quot;2024-12-31 22:00:00+00:00&quot;</td><td>&quot;Sydney&quot;</td><td>113.0</td><td>&quot;447.0&quot;</td><td>11.8</td><td>10.7</td><td>53.0</td><td>11.6</td><td>15.7</td><td>21.199999</td></tr><tr><td>&quot;2024-12-31 23:00:00+00:00&quot;</td><td>&quot;Sydney&quot;</td><td>107.0</td><td>&quot;443.0&quot;</td><td>7.8</td><td>11.3</td><td>74.0</td><td>12.6</td><td>17.1</td><td>29.6</td></tr></tbody></table></div>"
            ],
            "text/plain": [
              "shape: (52_704, 10)\n",
              "┌───────────────────────────┬──────────┬───────┬───────┬───┬──────┬───────┬──────┬───────────┐\n",
              "│ Date                      ┆ City     ┆ CO    ┆ CO2   ┆ … ┆ O3   ┆ PM2.5 ┆ PM10 ┆ AQI       │\n",
              "│ ---                       ┆ ---      ┆ ---   ┆ ---   ┆   ┆ ---  ┆ ---   ┆ ---  ┆ ---       │\n",
              "│ str                       ┆ str      ┆ f64   ┆ str   ┆   ┆ f64  ┆ f64   ┆ f64  ┆ f64       │\n",
              "╞═══════════════════════════╪══════════╪═══════╪═══════╪═══╪══════╪═══════╪══════╪═══════════╡\n",
              "│ 2024-01-01 00:00:00+00:00 ┆ Brasilia ┆ 323.0 ┆ null  ┆ … ┆ 42.0 ┆ 12.0  ┆ 17.1 ┆ 16.8      │\n",
              "│ 2024-01-01 01:00:00+00:00 ┆ Brasilia ┆ 318.0 ┆ null  ┆ … ┆ 40.0 ┆ 12.5  ┆ 17.9 ┆ 16.0      │\n",
              "│ 2024-01-01 02:00:00+00:00 ┆ Brasilia ┆ 309.0 ┆ null  ┆ … ┆ 39.0 ┆ 12.1  ┆ 17.3 ┆ 15.599999 │\n",
              "│ 2024-01-01 03:00:00+00:00 ┆ Brasilia ┆ 295.0 ┆ null  ┆ … ┆ 38.0 ┆ 11.4  ┆ 16.2 ┆ 15.2      │\n",
              "│ 2024-01-01 04:00:00+00:00 ┆ Brasilia ┆ 270.0 ┆ null  ┆ … ┆ 40.0 ┆ 10.2  ┆ 14.6 ┆ 16.0      │\n",
              "│ …                         ┆ …        ┆ …     ┆ …     ┆ … ┆ …    ┆ …     ┆ …    ┆ …         │\n",
              "│ 2024-12-31 19:00:00+00:00 ┆ Sydney   ┆ 106.0 ┆ 448.0 ┆ … ┆ 26.0 ┆ 9.7   ┆ 13.0 ┆ 19.199997 │\n",
              "│ 2024-12-31 20:00:00+00:00 ┆ Sydney   ┆ 112.0 ┆ 449.0 ┆ … ┆ 29.0 ┆ 11.1  ┆ 13.6 ┆ 19.18333  │\n",
              "│ 2024-12-31 21:00:00+00:00 ┆ Sydney   ┆ 115.0 ┆ 449.0 ┆ … ┆ 36.0 ┆ 11.5  ┆ 15.1 ┆ 19.274998 │\n",
              "│ 2024-12-31 22:00:00+00:00 ┆ Sydney   ┆ 113.0 ┆ 447.0 ┆ … ┆ 53.0 ┆ 11.6  ┆ 15.7 ┆ 21.199999 │\n",
              "│ 2024-12-31 23:00:00+00:00 ┆ Sydney   ┆ 107.0 ┆ 443.0 ┆ … ┆ 74.0 ┆ 12.6  ┆ 17.1 ┆ 29.6      │\n",
              "└───────────────────────────┴──────────┴───────┴───────┴───┴──────┴───────┴──────┴───────────┘"
            ]
          },
          "execution_count": 148,
          "metadata": {},
          "output_type": "execute_result"
        }
      ],
      "source": [
        "data"
      ]
    },
    {
      "cell_type": "code",
      "execution_count": 149,
      "metadata": {
        "colab": {
          "base_uri": "https://localhost:8080/"
        },
        "id": "fnn3FveOaft8",
        "outputId": "c01f439d-5682-420e-8607-62667ec2431a"
      },
      "outputs": [
        {
          "data": {
            "text/plain": [
              "Schema([('Date', String),\n",
              "        ('City', String),\n",
              "        ('CO', Float64),\n",
              "        ('CO2', String),\n",
              "        ('NO2', Float64),\n",
              "        ('SO2', Float64),\n",
              "        ('O3', Float64),\n",
              "        ('PM2.5', Float64),\n",
              "        ('PM10', Float64),\n",
              "        ('AQI', Float64)])"
            ]
          },
          "execution_count": 149,
          "metadata": {},
          "output_type": "execute_result"
        }
      ],
      "source": [
        "data.schema"
      ]
    },
    {
      "cell_type": "code",
      "execution_count": 150,
      "metadata": {
        "colab": {
          "base_uri": "https://localhost:8080/"
        },
        "id": "V-tneKbvaiz2",
        "outputId": "8751709e-de9e-4c0d-f680-15c4093118e7"
      },
      "outputs": [
        {
          "data": {
            "text/plain": [
              "52704"
            ]
          },
          "execution_count": 150,
          "metadata": {},
          "output_type": "execute_result"
        }
      ],
      "source": [
        "data.height"
      ]
    },
    {
      "cell_type": "code",
      "execution_count": 151,
      "metadata": {
        "colab": {
          "base_uri": "https://localhost:8080/"
        },
        "id": "WuzHZ4boale6",
        "outputId": "c54da6ef-89c2-4817-acfa-0a89593288f9"
      },
      "outputs": [
        {
          "data": {
            "text/plain": [
              "['Date', 'City', 'CO', 'CO2', 'NO2', 'SO2', 'O3', 'PM2.5', 'PM10', 'AQI']"
            ]
          },
          "execution_count": 151,
          "metadata": {},
          "output_type": "execute_result"
        }
      ],
      "source": [
        "data.columns"
      ]
    },
    {
      "cell_type": "code",
      "execution_count": 152,
      "metadata": {
        "colab": {
          "base_uri": "https://localhost:8080/",
          "height": 380
        },
        "id": "B3yI4QSga875",
        "outputId": "7270747a-1dfc-4758-8c93-c9473bb65a50"
      },
      "outputs": [
        {
          "data": {
            "text/html": [
              "<div><style>\n",
              ".dataframe > thead > tr,\n",
              ".dataframe > tbody > tr {\n",
              "  text-align: right;\n",
              "  white-space: pre-wrap;\n",
              "}\n",
              "</style>\n",
              "<small>shape: (9, 11)</small><table border=\"1\" class=\"dataframe\"><thead><tr><th>statistic</th><th>Date</th><th>City</th><th>CO</th><th>CO2</th><th>NO2</th><th>SO2</th><th>O3</th><th>PM2.5</th><th>PM10</th><th>AQI</th></tr><tr><td>str</td><td>str</td><td>str</td><td>f64</td><td>str</td><td>f64</td><td>f64</td><td>f64</td><td>f64</td><td>f64</td><td>f64</td></tr></thead><tbody><tr><td>&quot;count&quot;</td><td>&quot;52704&quot;</td><td>&quot;52704&quot;</td><td>52704.0</td><td>&quot;9648&quot;</td><td>52704.0</td><td>52704.0</td><td>52704.0</td><td>52704.0</td><td>52704.0</td><td>52704.0</td></tr><tr><td>&quot;null_count&quot;</td><td>&quot;0&quot;</td><td>&quot;0&quot;</td><td>0.0</td><td>&quot;43056&quot;</td><td>0.0</td><td>0.0</td><td>0.0</td><td>0.0</td><td>0.0</td><td>0.0</td></tr><tr><td>&quot;mean&quot;</td><td>null</td><td>null</td><td>258.258121</td><td>null</td><td>24.102998</td><td>12.569869</td><td>60.025729</td><td>17.689931</td><td>35.643143</td><td>41.349339</td></tr><tr><td>&quot;std&quot;</td><td>null</td><td>null</td><td>159.589953</td><td>null</td><td>19.363443</td><td>17.266623</td><td>38.217348</td><td>15.670075</td><td>48.444774</td><td>26.626149</td></tr><tr><td>&quot;min&quot;</td><td>&quot;2024-01-01 00:00:00+00:00&quot;</td><td>&quot;Brasilia&quot;</td><td>52.0</td><td>&quot;434.0&quot;</td><td>0.0</td><td>0.0</td><td>0.0</td><td>0.1</td><td>0.1</td><td>4.45</td></tr><tr><td>&quot;25%&quot;</td><td>null</td><td>null</td><td>159.0</td><td>null</td><td>9.7</td><td>2.3</td><td>35.0</td><td>6.9</td><td>10.2</td><td>22.8</td></tr><tr><td>&quot;50%&quot;</td><td>null</td><td>null</td><td>213.0</td><td>null</td><td>18.9</td><td>5.7</td><td>54.0</td><td>12.5</td><td>18.9</td><td>31.275002</td></tr><tr><td>&quot;75%&quot;</td><td>null</td><td>null</td><td>306.0</td><td>null</td><td>33.4</td><td>16.8</td><td>78.0</td><td>23.0</td><td>37.5</td><td>57.700012</td></tr><tr><td>&quot;max&quot;</td><td>&quot;2024-12-31 23:00:00+00:00&quot;</td><td>&quot;Sydney&quot;</td><td>2045.0</td><td>&quot;884.0&quot;</td><td>165.9</td><td>239.7</td><td>349.0</td><td>129.5</td><td>543.9</td><td>196.63333</td></tr></tbody></table></div>"
            ],
            "text/plain": [
              "shape: (9, 11)\n",
              "┌───────────┬───────────┬──────────┬───────────┬───┬───────────┬───────────┬───────────┬───────────┐\n",
              "│ statistic ┆ Date      ┆ City     ┆ CO        ┆ … ┆ O3        ┆ PM2.5     ┆ PM10      ┆ AQI       │\n",
              "│ ---       ┆ ---       ┆ ---      ┆ ---       ┆   ┆ ---       ┆ ---       ┆ ---       ┆ ---       │\n",
              "│ str       ┆ str       ┆ str      ┆ f64       ┆   ┆ f64       ┆ f64       ┆ f64       ┆ f64       │\n",
              "╞═══════════╪═══════════╪══════════╪═══════════╪═══╪═══════════╪═══════════╪═══════════╪═══════════╡\n",
              "│ count     ┆ 52704     ┆ 52704    ┆ 52704.0   ┆ … ┆ 52704.0   ┆ 52704.0   ┆ 52704.0   ┆ 52704.0   │\n",
              "│ null_coun ┆ 0         ┆ 0        ┆ 0.0       ┆ … ┆ 0.0       ┆ 0.0       ┆ 0.0       ┆ 0.0       │\n",
              "│ t         ┆           ┆          ┆           ┆   ┆           ┆           ┆           ┆           │\n",
              "│ mean      ┆ null      ┆ null     ┆ 258.25812 ┆ … ┆ 60.025729 ┆ 17.689931 ┆ 35.643143 ┆ 41.349339 │\n",
              "│           ┆           ┆          ┆ 1         ┆   ┆           ┆           ┆           ┆           │\n",
              "│ std       ┆ null      ┆ null     ┆ 159.58995 ┆ … ┆ 38.217348 ┆ 15.670075 ┆ 48.444774 ┆ 26.626149 │\n",
              "│           ┆           ┆          ┆ 3         ┆   ┆           ┆           ┆           ┆           │\n",
              "│ min       ┆ 2024-01-0 ┆ Brasilia ┆ 52.0      ┆ … ┆ 0.0       ┆ 0.1       ┆ 0.1       ┆ 4.45      │\n",
              "│           ┆ 1 00:00:0 ┆          ┆           ┆   ┆           ┆           ┆           ┆           │\n",
              "│           ┆ 0+00:00   ┆          ┆           ┆   ┆           ┆           ┆           ┆           │\n",
              "│ 25%       ┆ null      ┆ null     ┆ 159.0     ┆ … ┆ 35.0      ┆ 6.9       ┆ 10.2      ┆ 22.8      │\n",
              "│ 50%       ┆ null      ┆ null     ┆ 213.0     ┆ … ┆ 54.0      ┆ 12.5      ┆ 18.9      ┆ 31.275002 │\n",
              "│ 75%       ┆ null      ┆ null     ┆ 306.0     ┆ … ┆ 78.0      ┆ 23.0      ┆ 37.5      ┆ 57.700012 │\n",
              "│ max       ┆ 2024-12-3 ┆ Sydney   ┆ 2045.0    ┆ … ┆ 349.0     ┆ 129.5     ┆ 543.9     ┆ 196.63333 │\n",
              "│           ┆ 1 23:00:0 ┆          ┆           ┆   ┆           ┆           ┆           ┆           │\n",
              "│           ┆ 0+00:00   ┆          ┆           ┆   ┆           ┆           ┆           ┆           │\n",
              "└───────────┴───────────┴──────────┴───────────┴───┴───────────┴───────────┴───────────┴───────────┘"
            ]
          },
          "execution_count": 152,
          "metadata": {},
          "output_type": "execute_result"
        }
      ],
      "source": [
        "data.describe()"
      ]
    },
    {
      "cell_type": "code",
      "execution_count": 153,
      "metadata": {
        "colab": {
          "base_uri": "https://localhost:8080/",
          "height": 129
        },
        "id": "VIjCSXrkbAfX",
        "outputId": "dec67a33-1452-498f-b6d0-55407c007c71"
      },
      "outputs": [
        {
          "data": {
            "text/html": [
              "<div><style>\n",
              ".dataframe > thead > tr,\n",
              ".dataframe > tbody > tr {\n",
              "  text-align: right;\n",
              "  white-space: pre-wrap;\n",
              "}\n",
              "</style>\n",
              "<small>shape: (1, 10)</small><table border=\"1\" class=\"dataframe\"><thead><tr><th>Date</th><th>City</th><th>CO</th><th>CO2</th><th>NO2</th><th>SO2</th><th>O3</th><th>PM2.5</th><th>PM10</th><th>AQI</th></tr><tr><td>u32</td><td>u32</td><td>u32</td><td>u32</td><td>u32</td><td>u32</td><td>u32</td><td>u32</td><td>u32</td><td>u32</td></tr></thead><tbody><tr><td>0</td><td>0</td><td>0</td><td>43056</td><td>0</td><td>0</td><td>0</td><td>0</td><td>0</td><td>0</td></tr></tbody></table></div>"
            ],
            "text/plain": [
              "shape: (1, 10)\n",
              "┌──────┬──────┬─────┬───────┬───┬─────┬───────┬──────┬─────┐\n",
              "│ Date ┆ City ┆ CO  ┆ CO2   ┆ … ┆ O3  ┆ PM2.5 ┆ PM10 ┆ AQI │\n",
              "│ ---  ┆ ---  ┆ --- ┆ ---   ┆   ┆ --- ┆ ---   ┆ ---  ┆ --- │\n",
              "│ u32  ┆ u32  ┆ u32 ┆ u32   ┆   ┆ u32 ┆ u32   ┆ u32  ┆ u32 │\n",
              "╞══════╪══════╪═════╪═══════╪═══╪═════╪═══════╪══════╪═════╡\n",
              "│ 0    ┆ 0    ┆ 0   ┆ 43056 ┆ … ┆ 0   ┆ 0     ┆ 0    ┆ 0   │\n",
              "└──────┴──────┴─────┴───────┴───┴─────┴───────┴──────┴─────┘"
            ]
          },
          "execution_count": 153,
          "metadata": {},
          "output_type": "execute_result"
        }
      ],
      "source": [
        "data.null_count()"
      ]
    },
    {
      "cell_type": "code",
      "execution_count": 154,
      "metadata": {
        "colab": {
          "base_uri": "https://localhost:8080/",
          "height": 129
        },
        "id": "UKEhErM6XkIp",
        "outputId": "e45af179-5f07-4683-c30a-df23a5e7508f"
      },
      "outputs": [
        {
          "data": {
            "text/html": [
              "<div><style>\n",
              ".dataframe > thead > tr,\n",
              ".dataframe > tbody > tr {\n",
              "  text-align: right;\n",
              "  white-space: pre-wrap;\n",
              "}\n",
              "</style>\n",
              "<small>shape: (1, 1)</small><table border=\"1\" class=\"dataframe\"><thead><tr><th>CO2</th></tr><tr><td>u32</td></tr></thead><tbody><tr><td>43056</td></tr></tbody></table></div>"
            ],
            "text/plain": [
              "shape: (1, 1)\n",
              "┌───────┐\n",
              "│ CO2   │\n",
              "│ ---   │\n",
              "│ u32   │\n",
              "╞═══════╡\n",
              "│ 43056 │\n",
              "└───────┘"
            ]
          },
          "execution_count": 154,
          "metadata": {},
          "output_type": "execute_result"
        }
      ],
      "source": [
        "data.null_count().select(pl.col('CO2'))"
      ]
    },
    {
      "cell_type": "code",
      "execution_count": 155,
      "metadata": {
        "colab": {
          "base_uri": "https://localhost:8080/",
          "height": 443
        },
        "id": "d1nVGgFmZ8LC",
        "outputId": "73d14d87-f718-49ad-ab22-b5fc73dbe495"
      },
      "outputs": [
        {
          "data": {
            "text/html": [
              "<div><style>\n",
              ".dataframe > thead > tr,\n",
              ".dataframe > tbody > tr {\n",
              "  text-align: right;\n",
              "  white-space: pre-wrap;\n",
              "}\n",
              "</style>\n",
              "<small>shape: (9_648, 10)</small><table border=\"1\" class=\"dataframe\"><thead><tr><th>Date</th><th>City</th><th>CO</th><th>CO2</th><th>NO2</th><th>SO2</th><th>O3</th><th>PM2.5</th><th>PM10</th><th>AQI</th></tr><tr><td>str</td><td>str</td><td>f64</td><td>str</td><td>f64</td><td>f64</td><td>f64</td><td>f64</td><td>f64</td><td>f64</td></tr></thead><tbody><tr><td>&quot;2024-10-26 00:00:00+00:00&quot;</td><td>&quot;Brasilia&quot;</td><td>963.0</td><td>&quot;471.0&quot;</td><td>24.8</td><td>2.4</td><td>37.0</td><td>14.3</td><td>20.5</td><td>26.808334</td></tr><tr><td>&quot;2024-10-26 01:00:00+00:00&quot;</td><td>&quot;Brasilia&quot;</td><td>918.0</td><td>&quot;471.0&quot;</td><td>24.4</td><td>2.5</td><td>35.0</td><td>14.9</td><td>21.4</td><td>26.975</td></tr><tr><td>&quot;2024-10-26 02:00:00+00:00&quot;</td><td>&quot;Brasilia&quot;</td><td>851.0</td><td>&quot;472.0&quot;</td><td>23.7</td><td>2.7</td><td>32.0</td><td>15.1</td><td>21.6</td><td>27.116665</td></tr><tr><td>&quot;2024-10-26 03:00:00+00:00&quot;</td><td>&quot;Brasilia&quot;</td><td>772.0</td><td>&quot;472.0&quot;</td><td>22.3</td><td>2.8</td><td>31.0</td><td>15.0</td><td>21.4</td><td>27.20833</td></tr><tr><td>&quot;2024-10-26 04:00:00+00:00&quot;</td><td>&quot;Brasilia&quot;</td><td>669.0</td><td>&quot;472.0&quot;</td><td>19.5</td><td>2.9</td><td>32.0</td><td>14.8</td><td>21.1</td><td>27.266665</td></tr><tr><td>&hellip;</td><td>&hellip;</td><td>&hellip;</td><td>&hellip;</td><td>&hellip;</td><td>&hellip;</td><td>&hellip;</td><td>&hellip;</td><td>&hellip;</td><td>&hellip;</td></tr><tr><td>&quot;2024-12-31 19:00:00+00:00&quot;</td><td>&quot;Sydney&quot;</td><td>106.0</td><td>&quot;448.0&quot;</td><td>15.5</td><td>6.4</td><td>26.0</td><td>9.7</td><td>13.0</td><td>19.199997</td></tr><tr><td>&quot;2024-12-31 20:00:00+00:00&quot;</td><td>&quot;Sydney&quot;</td><td>112.0</td><td>&quot;449.0&quot;</td><td>15.7</td><td>8.3</td><td>29.0</td><td>11.1</td><td>13.6</td><td>19.18333</td></tr><tr><td>&quot;2024-12-31 21:00:00+00:00&quot;</td><td>&quot;Sydney&quot;</td><td>115.0</td><td>&quot;449.0&quot;</td><td>14.7</td><td>9.8</td><td>36.0</td><td>11.5</td><td>15.1</td><td>19.274998</td></tr><tr><td>&quot;2024-12-31 22:00:00+00:00&quot;</td><td>&quot;Sydney&quot;</td><td>113.0</td><td>&quot;447.0&quot;</td><td>11.8</td><td>10.7</td><td>53.0</td><td>11.6</td><td>15.7</td><td>21.199999</td></tr><tr><td>&quot;2024-12-31 23:00:00+00:00&quot;</td><td>&quot;Sydney&quot;</td><td>107.0</td><td>&quot;443.0&quot;</td><td>7.8</td><td>11.3</td><td>74.0</td><td>12.6</td><td>17.1</td><td>29.6</td></tr></tbody></table></div>"
            ],
            "text/plain": [
              "shape: (9_648, 10)\n",
              "┌───────────────────────────┬──────────┬───────┬───────┬───┬──────┬───────┬──────┬───────────┐\n",
              "│ Date                      ┆ City     ┆ CO    ┆ CO2   ┆ … ┆ O3   ┆ PM2.5 ┆ PM10 ┆ AQI       │\n",
              "│ ---                       ┆ ---      ┆ ---   ┆ ---   ┆   ┆ ---  ┆ ---   ┆ ---  ┆ ---       │\n",
              "│ str                       ┆ str      ┆ f64   ┆ str   ┆   ┆ f64  ┆ f64   ┆ f64  ┆ f64       │\n",
              "╞═══════════════════════════╪══════════╪═══════╪═══════╪═══╪══════╪═══════╪══════╪═══════════╡\n",
              "│ 2024-10-26 00:00:00+00:00 ┆ Brasilia ┆ 963.0 ┆ 471.0 ┆ … ┆ 37.0 ┆ 14.3  ┆ 20.5 ┆ 26.808334 │\n",
              "│ 2024-10-26 01:00:00+00:00 ┆ Brasilia ┆ 918.0 ┆ 471.0 ┆ … ┆ 35.0 ┆ 14.9  ┆ 21.4 ┆ 26.975    │\n",
              "│ 2024-10-26 02:00:00+00:00 ┆ Brasilia ┆ 851.0 ┆ 472.0 ┆ … ┆ 32.0 ┆ 15.1  ┆ 21.6 ┆ 27.116665 │\n",
              "│ 2024-10-26 03:00:00+00:00 ┆ Brasilia ┆ 772.0 ┆ 472.0 ┆ … ┆ 31.0 ┆ 15.0  ┆ 21.4 ┆ 27.20833  │\n",
              "│ 2024-10-26 04:00:00+00:00 ┆ Brasilia ┆ 669.0 ┆ 472.0 ┆ … ┆ 32.0 ┆ 14.8  ┆ 21.1 ┆ 27.266665 │\n",
              "│ …                         ┆ …        ┆ …     ┆ …     ┆ … ┆ …    ┆ …     ┆ …    ┆ …         │\n",
              "│ 2024-12-31 19:00:00+00:00 ┆ Sydney   ┆ 106.0 ┆ 448.0 ┆ … ┆ 26.0 ┆ 9.7   ┆ 13.0 ┆ 19.199997 │\n",
              "│ 2024-12-31 20:00:00+00:00 ┆ Sydney   ┆ 112.0 ┆ 449.0 ┆ … ┆ 29.0 ┆ 11.1  ┆ 13.6 ┆ 19.18333  │\n",
              "│ 2024-12-31 21:00:00+00:00 ┆ Sydney   ┆ 115.0 ┆ 449.0 ┆ … ┆ 36.0 ┆ 11.5  ┆ 15.1 ┆ 19.274998 │\n",
              "│ 2024-12-31 22:00:00+00:00 ┆ Sydney   ┆ 113.0 ┆ 447.0 ┆ … ┆ 53.0 ┆ 11.6  ┆ 15.7 ┆ 21.199999 │\n",
              "│ 2024-12-31 23:00:00+00:00 ┆ Sydney   ┆ 107.0 ┆ 443.0 ┆ … ┆ 74.0 ┆ 12.6  ┆ 17.1 ┆ 29.6      │\n",
              "└───────────────────────────┴──────────┴───────┴───────┴───┴──────┴───────┴──────┴───────────┘"
            ]
          },
          "execution_count": 155,
          "metadata": {},
          "output_type": "execute_result"
        }
      ],
      "source": [
        "data.drop_nulls()"
      ]
    },
    {
      "cell_type": "code",
      "execution_count": 156,
      "metadata": {
        "colab": {
          "base_uri": "https://localhost:8080/",
          "height": 443
        },
        "id": "BWc-Re7jZ6xg",
        "outputId": "852b2847-a79c-4d27-820b-dd25267f9dea"
      },
      "outputs": [
        {
          "data": {
            "text/html": [
              "<div><style>\n",
              ".dataframe > thead > tr,\n",
              ".dataframe > tbody > tr {\n",
              "  text-align: right;\n",
              "  white-space: pre-wrap;\n",
              "}\n",
              "</style>\n",
              "<small>shape: (52_704, 10)</small><table border=\"1\" class=\"dataframe\"><thead><tr><th>Date</th><th>City</th><th>CO</th><th>CO2</th><th>NO2</th><th>SO2</th><th>O3</th><th>PM2.5</th><th>PM10</th><th>AQI</th></tr><tr><td>str</td><td>str</td><td>f64</td><td>str</td><td>f64</td><td>f64</td><td>f64</td><td>f64</td><td>f64</td><td>f64</td></tr></thead><tbody><tr><td>&quot;2024-01-01 00:00:00+00:00&quot;</td><td>&quot;Brasilia&quot;</td><td>323.0</td><td>&quot;434.0&quot;</td><td>23.8</td><td>2.8</td><td>42.0</td><td>12.0</td><td>17.1</td><td>16.8</td></tr><tr><td>&quot;2024-01-01 01:00:00+00:00&quot;</td><td>&quot;Brasilia&quot;</td><td>318.0</td><td>&quot;434.0&quot;</td><td>21.9</td><td>2.7</td><td>40.0</td><td>12.5</td><td>17.9</td><td>16.0</td></tr><tr><td>&quot;2024-01-01 02:00:00+00:00&quot;</td><td>&quot;Brasilia&quot;</td><td>309.0</td><td>&quot;434.0&quot;</td><td>19.2</td><td>2.6</td><td>39.0</td><td>12.1</td><td>17.3</td><td>15.599999</td></tr><tr><td>&quot;2024-01-01 03:00:00+00:00&quot;</td><td>&quot;Brasilia&quot;</td><td>295.0</td><td>&quot;434.0&quot;</td><td>16.3</td><td>2.4</td><td>38.0</td><td>11.4</td><td>16.2</td><td>15.2</td></tr><tr><td>&quot;2024-01-01 04:00:00+00:00&quot;</td><td>&quot;Brasilia&quot;</td><td>270.0</td><td>&quot;434.0&quot;</td><td>13.0</td><td>2.1</td><td>40.0</td><td>10.2</td><td>14.6</td><td>16.0</td></tr><tr><td>&hellip;</td><td>&hellip;</td><td>&hellip;</td><td>&hellip;</td><td>&hellip;</td><td>&hellip;</td><td>&hellip;</td><td>&hellip;</td><td>&hellip;</td><td>&hellip;</td></tr><tr><td>&quot;2024-12-31 19:00:00+00:00&quot;</td><td>&quot;Sydney&quot;</td><td>106.0</td><td>&quot;448.0&quot;</td><td>15.5</td><td>6.4</td><td>26.0</td><td>9.7</td><td>13.0</td><td>19.199997</td></tr><tr><td>&quot;2024-12-31 20:00:00+00:00&quot;</td><td>&quot;Sydney&quot;</td><td>112.0</td><td>&quot;449.0&quot;</td><td>15.7</td><td>8.3</td><td>29.0</td><td>11.1</td><td>13.6</td><td>19.18333</td></tr><tr><td>&quot;2024-12-31 21:00:00+00:00&quot;</td><td>&quot;Sydney&quot;</td><td>115.0</td><td>&quot;449.0&quot;</td><td>14.7</td><td>9.8</td><td>36.0</td><td>11.5</td><td>15.1</td><td>19.274998</td></tr><tr><td>&quot;2024-12-31 22:00:00+00:00&quot;</td><td>&quot;Sydney&quot;</td><td>113.0</td><td>&quot;447.0&quot;</td><td>11.8</td><td>10.7</td><td>53.0</td><td>11.6</td><td>15.7</td><td>21.199999</td></tr><tr><td>&quot;2024-12-31 23:00:00+00:00&quot;</td><td>&quot;Sydney&quot;</td><td>107.0</td><td>&quot;443.0&quot;</td><td>7.8</td><td>11.3</td><td>74.0</td><td>12.6</td><td>17.1</td><td>29.6</td></tr></tbody></table></div>"
            ],
            "text/plain": [
              "shape: (52_704, 10)\n",
              "┌───────────────────────────┬──────────┬───────┬───────┬───┬──────┬───────┬──────┬───────────┐\n",
              "│ Date                      ┆ City     ┆ CO    ┆ CO2   ┆ … ┆ O3   ┆ PM2.5 ┆ PM10 ┆ AQI       │\n",
              "│ ---                       ┆ ---      ┆ ---   ┆ ---   ┆   ┆ ---  ┆ ---   ┆ ---  ┆ ---       │\n",
              "│ str                       ┆ str      ┆ f64   ┆ str   ┆   ┆ f64  ┆ f64   ┆ f64  ┆ f64       │\n",
              "╞═══════════════════════════╪══════════╪═══════╪═══════╪═══╪══════╪═══════╪══════╪═══════════╡\n",
              "│ 2024-01-01 00:00:00+00:00 ┆ Brasilia ┆ 323.0 ┆ 434.0 ┆ … ┆ 42.0 ┆ 12.0  ┆ 17.1 ┆ 16.8      │\n",
              "│ 2024-01-01 01:00:00+00:00 ┆ Brasilia ┆ 318.0 ┆ 434.0 ┆ … ┆ 40.0 ┆ 12.5  ┆ 17.9 ┆ 16.0      │\n",
              "│ 2024-01-01 02:00:00+00:00 ┆ Brasilia ┆ 309.0 ┆ 434.0 ┆ … ┆ 39.0 ┆ 12.1  ┆ 17.3 ┆ 15.599999 │\n",
              "│ 2024-01-01 03:00:00+00:00 ┆ Brasilia ┆ 295.0 ┆ 434.0 ┆ … ┆ 38.0 ┆ 11.4  ┆ 16.2 ┆ 15.2      │\n",
              "│ 2024-01-01 04:00:00+00:00 ┆ Brasilia ┆ 270.0 ┆ 434.0 ┆ … ┆ 40.0 ┆ 10.2  ┆ 14.6 ┆ 16.0      │\n",
              "│ …                         ┆ …        ┆ …     ┆ …     ┆ … ┆ …    ┆ …     ┆ …    ┆ …         │\n",
              "│ 2024-12-31 19:00:00+00:00 ┆ Sydney   ┆ 106.0 ┆ 448.0 ┆ … ┆ 26.0 ┆ 9.7   ┆ 13.0 ┆ 19.199997 │\n",
              "│ 2024-12-31 20:00:00+00:00 ┆ Sydney   ┆ 112.0 ┆ 449.0 ┆ … ┆ 29.0 ┆ 11.1  ┆ 13.6 ┆ 19.18333  │\n",
              "│ 2024-12-31 21:00:00+00:00 ┆ Sydney   ┆ 115.0 ┆ 449.0 ┆ … ┆ 36.0 ┆ 11.5  ┆ 15.1 ┆ 19.274998 │\n",
              "│ 2024-12-31 22:00:00+00:00 ┆ Sydney   ┆ 113.0 ┆ 447.0 ┆ … ┆ 53.0 ┆ 11.6  ┆ 15.7 ┆ 21.199999 │\n",
              "│ 2024-12-31 23:00:00+00:00 ┆ Sydney   ┆ 107.0 ┆ 443.0 ┆ … ┆ 74.0 ┆ 12.6  ┆ 17.1 ┆ 29.6      │\n",
              "└───────────────────────────┴──────────┴───────┴───────┴───┴──────┴───────┴──────┴───────────┘"
            ]
          },
          "execution_count": 156,
          "metadata": {},
          "output_type": "execute_result"
        }
      ],
      "source": [
        "data=data.with_columns(pl.col('CO2').fill_null(pl.col('CO2').min()))\n",
        "data"
      ]
    },
    {
      "cell_type": "code",
      "execution_count": 157,
      "metadata": {
        "id": "F4boTT4bp4oO"
      },
      "outputs": [],
      "source": [
        "data=data.with_columns(pl.col('CO2').cast(pl.Float64))"
      ]
    },
    {
      "cell_type": "code",
      "execution_count": 158,
      "metadata": {
        "colab": {
          "base_uri": "https://localhost:8080/",
          "height": 443
        },
        "id": "XNG4XL18qAol",
        "outputId": "32911d5f-251a-490b-db0d-4960f9489156"
      },
      "outputs": [
        {
          "data": {
            "text/html": [
              "<div><style>\n",
              ".dataframe > thead > tr,\n",
              ".dataframe > tbody > tr {\n",
              "  text-align: right;\n",
              "  white-space: pre-wrap;\n",
              "}\n",
              "</style>\n",
              "<small>shape: (52_704, 10)</small><table border=\"1\" class=\"dataframe\"><thead><tr><th>Date</th><th>City</th><th>CO</th><th>CO2</th><th>NO2</th><th>SO2</th><th>O3</th><th>PM2.5</th><th>PM10</th><th>AQI</th></tr><tr><td>str</td><td>str</td><td>f64</td><td>f64</td><td>f64</td><td>f64</td><td>f64</td><td>f64</td><td>f64</td><td>f64</td></tr></thead><tbody><tr><td>&quot;2024-01-01 00:00:00+00:00&quot;</td><td>&quot;Brasilia&quot;</td><td>323.0</td><td>434.0</td><td>23.8</td><td>2.8</td><td>42.0</td><td>12.0</td><td>17.1</td><td>16.8</td></tr><tr><td>&quot;2024-01-01 01:00:00+00:00&quot;</td><td>&quot;Brasilia&quot;</td><td>318.0</td><td>434.0</td><td>21.9</td><td>2.7</td><td>40.0</td><td>12.5</td><td>17.9</td><td>16.0</td></tr><tr><td>&quot;2024-01-01 02:00:00+00:00&quot;</td><td>&quot;Brasilia&quot;</td><td>309.0</td><td>434.0</td><td>19.2</td><td>2.6</td><td>39.0</td><td>12.1</td><td>17.3</td><td>15.599999</td></tr><tr><td>&quot;2024-01-01 03:00:00+00:00&quot;</td><td>&quot;Brasilia&quot;</td><td>295.0</td><td>434.0</td><td>16.3</td><td>2.4</td><td>38.0</td><td>11.4</td><td>16.2</td><td>15.2</td></tr><tr><td>&quot;2024-01-01 04:00:00+00:00&quot;</td><td>&quot;Brasilia&quot;</td><td>270.0</td><td>434.0</td><td>13.0</td><td>2.1</td><td>40.0</td><td>10.2</td><td>14.6</td><td>16.0</td></tr><tr><td>&hellip;</td><td>&hellip;</td><td>&hellip;</td><td>&hellip;</td><td>&hellip;</td><td>&hellip;</td><td>&hellip;</td><td>&hellip;</td><td>&hellip;</td><td>&hellip;</td></tr><tr><td>&quot;2024-12-31 19:00:00+00:00&quot;</td><td>&quot;Sydney&quot;</td><td>106.0</td><td>448.0</td><td>15.5</td><td>6.4</td><td>26.0</td><td>9.7</td><td>13.0</td><td>19.199997</td></tr><tr><td>&quot;2024-12-31 20:00:00+00:00&quot;</td><td>&quot;Sydney&quot;</td><td>112.0</td><td>449.0</td><td>15.7</td><td>8.3</td><td>29.0</td><td>11.1</td><td>13.6</td><td>19.18333</td></tr><tr><td>&quot;2024-12-31 21:00:00+00:00&quot;</td><td>&quot;Sydney&quot;</td><td>115.0</td><td>449.0</td><td>14.7</td><td>9.8</td><td>36.0</td><td>11.5</td><td>15.1</td><td>19.274998</td></tr><tr><td>&quot;2024-12-31 22:00:00+00:00&quot;</td><td>&quot;Sydney&quot;</td><td>113.0</td><td>447.0</td><td>11.8</td><td>10.7</td><td>53.0</td><td>11.6</td><td>15.7</td><td>21.199999</td></tr><tr><td>&quot;2024-12-31 23:00:00+00:00&quot;</td><td>&quot;Sydney&quot;</td><td>107.0</td><td>443.0</td><td>7.8</td><td>11.3</td><td>74.0</td><td>12.6</td><td>17.1</td><td>29.6</td></tr></tbody></table></div>"
            ],
            "text/plain": [
              "shape: (52_704, 10)\n",
              "┌───────────────────────────┬──────────┬───────┬───────┬───┬──────┬───────┬──────┬───────────┐\n",
              "│ Date                      ┆ City     ┆ CO    ┆ CO2   ┆ … ┆ O3   ┆ PM2.5 ┆ PM10 ┆ AQI       │\n",
              "│ ---                       ┆ ---      ┆ ---   ┆ ---   ┆   ┆ ---  ┆ ---   ┆ ---  ┆ ---       │\n",
              "│ str                       ┆ str      ┆ f64   ┆ f64   ┆   ┆ f64  ┆ f64   ┆ f64  ┆ f64       │\n",
              "╞═══════════════════════════╪══════════╪═══════╪═══════╪═══╪══════╪═══════╪══════╪═══════════╡\n",
              "│ 2024-01-01 00:00:00+00:00 ┆ Brasilia ┆ 323.0 ┆ 434.0 ┆ … ┆ 42.0 ┆ 12.0  ┆ 17.1 ┆ 16.8      │\n",
              "│ 2024-01-01 01:00:00+00:00 ┆ Brasilia ┆ 318.0 ┆ 434.0 ┆ … ┆ 40.0 ┆ 12.5  ┆ 17.9 ┆ 16.0      │\n",
              "│ 2024-01-01 02:00:00+00:00 ┆ Brasilia ┆ 309.0 ┆ 434.0 ┆ … ┆ 39.0 ┆ 12.1  ┆ 17.3 ┆ 15.599999 │\n",
              "│ 2024-01-01 03:00:00+00:00 ┆ Brasilia ┆ 295.0 ┆ 434.0 ┆ … ┆ 38.0 ┆ 11.4  ┆ 16.2 ┆ 15.2      │\n",
              "│ 2024-01-01 04:00:00+00:00 ┆ Brasilia ┆ 270.0 ┆ 434.0 ┆ … ┆ 40.0 ┆ 10.2  ┆ 14.6 ┆ 16.0      │\n",
              "│ …                         ┆ …        ┆ …     ┆ …     ┆ … ┆ …    ┆ …     ┆ …    ┆ …         │\n",
              "│ 2024-12-31 19:00:00+00:00 ┆ Sydney   ┆ 106.0 ┆ 448.0 ┆ … ┆ 26.0 ┆ 9.7   ┆ 13.0 ┆ 19.199997 │\n",
              "│ 2024-12-31 20:00:00+00:00 ┆ Sydney   ┆ 112.0 ┆ 449.0 ┆ … ┆ 29.0 ┆ 11.1  ┆ 13.6 ┆ 19.18333  │\n",
              "│ 2024-12-31 21:00:00+00:00 ┆ Sydney   ┆ 115.0 ┆ 449.0 ┆ … ┆ 36.0 ┆ 11.5  ┆ 15.1 ┆ 19.274998 │\n",
              "│ 2024-12-31 22:00:00+00:00 ┆ Sydney   ┆ 113.0 ┆ 447.0 ┆ … ┆ 53.0 ┆ 11.6  ┆ 15.7 ┆ 21.199999 │\n",
              "│ 2024-12-31 23:00:00+00:00 ┆ Sydney   ┆ 107.0 ┆ 443.0 ┆ … ┆ 74.0 ┆ 12.6  ┆ 17.1 ┆ 29.6      │\n",
              "└───────────────────────────┴──────────┴───────┴───────┴───┴──────┴───────┴──────┴───────────┘"
            ]
          },
          "execution_count": 158,
          "metadata": {},
          "output_type": "execute_result"
        }
      ],
      "source": [
        "data"
      ]
    },
    {
      "cell_type": "code",
      "execution_count": 159,
      "metadata": {
        "colab": {
          "base_uri": "https://localhost:8080/"
        },
        "id": "mIViNmIMaQWl",
        "outputId": "076d531f-23e3-400b-f29f-d5c29848d40d"
      },
      "outputs": [
        {
          "data": {
            "text/plain": [
              "52704"
            ]
          },
          "execution_count": 159,
          "metadata": {},
          "output_type": "execute_result"
        }
      ],
      "source": [
        "data.drop_nans().height"
      ]
    },
    {
      "cell_type": "code",
      "execution_count": 160,
      "metadata": {
        "colab": {
          "base_uri": "https://localhost:8080/"
        },
        "id": "-3YLRcR7cAcH",
        "outputId": "a33076c7-2bfc-440a-e708-7cf91d99ac63"
      },
      "outputs": [
        {
          "data": {
            "text/plain": [
              "0"
            ]
          },
          "execution_count": 160,
          "metadata": {},
          "output_type": "execute_result"
        }
      ],
      "source": [
        "data.height - data.unique().height #Dublikatların sayını tapmaq."
      ]
    },
    {
      "cell_type": "code",
      "execution_count": 161,
      "metadata": {
        "colab": {
          "base_uri": "https://localhost:8080/",
          "height": 98
        },
        "id": "ILLrqWHGcLNn",
        "outputId": "a616151c-2b05-4309-e2a1-4d550c34aa4e"
      },
      "outputs": [
        {
          "data": {
            "text/html": [
              "<div><style>\n",
              ".dataframe > thead > tr,\n",
              ".dataframe > tbody > tr {\n",
              "  text-align: right;\n",
              "  white-space: pre-wrap;\n",
              "}\n",
              "</style>\n",
              "<small>shape: (0, 10)</small><table border=\"1\" class=\"dataframe\"><thead><tr><th>Date</th><th>City</th><th>CO</th><th>CO2</th><th>NO2</th><th>SO2</th><th>O3</th><th>PM2.5</th><th>PM10</th><th>AQI</th></tr><tr><td>str</td><td>str</td><td>f64</td><td>f64</td><td>f64</td><td>f64</td><td>f64</td><td>f64</td><td>f64</td><td>f64</td></tr></thead><tbody></tbody></table></div>"
            ],
            "text/plain": [
              "shape: (0, 10)\n",
              "┌──────┬──────┬─────┬─────┬───┬─────┬───────┬──────┬─────┐\n",
              "│ Date ┆ City ┆ CO  ┆ CO2 ┆ … ┆ O3  ┆ PM2.5 ┆ PM10 ┆ AQI │\n",
              "│ ---  ┆ ---  ┆ --- ┆ --- ┆   ┆ --- ┆ ---   ┆ ---  ┆ --- │\n",
              "│ str  ┆ str  ┆ f64 ┆ f64 ┆   ┆ f64 ┆ f64   ┆ f64  ┆ f64 │\n",
              "╞══════╪══════╪═════╪═════╪═══╪═════╪═══════╪══════╪═════╡\n",
              "└──────┴──────┴─────┴─────┴───┴─────┴───────┴──────┴─────┘"
            ]
          },
          "execution_count": 161,
          "metadata": {},
          "output_type": "execute_result"
        }
      ],
      "source": [
        "data.filter(data.is_duplicated()) # Dublikat olan columnları göstərmək."
      ]
    },
    {
      "cell_type": "code",
      "execution_count": 162,
      "metadata": {
        "colab": {
          "base_uri": "https://localhost:8080/",
          "height": 321
        },
        "id": "CJbMe9E5cbQD",
        "outputId": "18c0c0ed-c4f8-4575-f360-d860d3a0c372"
      },
      "outputs": [
        {
          "name": "stderr",
          "output_type": "stream",
          "text": [
            "<ipython-input-162-44487e3861c7>:1: DeprecationWarning: `GroupBy.count` is deprecated. It has been renamed to `len`.\n",
            "  data.group_by('City').count()\n"
          ]
        },
        {
          "data": {
            "text/html": [
              "<div><style>\n",
              ".dataframe > thead > tr,\n",
              ".dataframe > tbody > tr {\n",
              "  text-align: right;\n",
              "  white-space: pre-wrap;\n",
              "}\n",
              "</style>\n",
              "<small>shape: (6, 2)</small><table border=\"1\" class=\"dataframe\"><thead><tr><th>City</th><th>count</th></tr><tr><td>str</td><td>u32</td></tr></thead><tbody><tr><td>&quot;Brasilia&quot;</td><td>8784</td></tr><tr><td>&quot;New York&quot;</td><td>8784</td></tr><tr><td>&quot;London&quot;</td><td>8784</td></tr><tr><td>&quot;Dubai&quot;</td><td>8784</td></tr><tr><td>&quot;Cairo&quot;</td><td>8784</td></tr><tr><td>&quot;Sydney&quot;</td><td>8784</td></tr></tbody></table></div>"
            ],
            "text/plain": [
              "shape: (6, 2)\n",
              "┌──────────┬───────┐\n",
              "│ City     ┆ count │\n",
              "│ ---      ┆ ---   │\n",
              "│ str      ┆ u32   │\n",
              "╞══════════╪═══════╡\n",
              "│ Brasilia ┆ 8784  │\n",
              "│ New York ┆ 8784  │\n",
              "│ London   ┆ 8784  │\n",
              "│ Dubai    ┆ 8784  │\n",
              "│ Cairo    ┆ 8784  │\n",
              "│ Sydney   ┆ 8784  │\n",
              "└──────────┴───────┘"
            ]
          },
          "execution_count": 162,
          "metadata": {},
          "output_type": "execute_result"
        }
      ],
      "source": [
        "data.group_by('City').count()"
      ]
    },
    {
      "cell_type": "code",
      "execution_count": 163,
      "metadata": {
        "colab": {
          "base_uri": "https://localhost:8080/",
          "height": 129
        },
        "id": "sh3SDQFDdJAq",
        "outputId": "4b8afbe2-c94c-4a98-d61b-f9a196d4f9af"
      },
      "outputs": [
        {
          "data": {
            "text/html": [
              "<div><style>\n",
              ".dataframe > thead > tr,\n",
              ".dataframe > tbody > tr {\n",
              "  text-align: right;\n",
              "  white-space: pre-wrap;\n",
              "}\n",
              "</style>\n",
              "<small>shape: (1, 1)</small><table border=\"1\" class=\"dataframe\"><thead><tr><th>City</th></tr><tr><td>u32</td></tr></thead><tbody><tr><td>6</td></tr></tbody></table></div>"
            ],
            "text/plain": [
              "shape: (1, 1)\n",
              "┌──────┐\n",
              "│ City │\n",
              "│ ---  │\n",
              "│ u32  │\n",
              "╞══════╡\n",
              "│ 6    │\n",
              "└──────┘"
            ]
          },
          "execution_count": 163,
          "metadata": {},
          "output_type": "execute_result"
        }
      ],
      "source": [
        "data.select('City').unique().count()"
      ]
    },
    {
      "cell_type": "code",
      "execution_count": 164,
      "metadata": {
        "colab": {
          "base_uri": "https://localhost:8080/"
        },
        "id": "fDakVu69dR5d",
        "outputId": "3c492f55-1384-42be-ceb3-fab99469d8a2"
      },
      "outputs": [
        {
          "data": {
            "text/plain": [
              "6"
            ]
          },
          "execution_count": 164,
          "metadata": {},
          "output_type": "execute_result"
        }
      ],
      "source": [
        "data.select('City').n_unique()"
      ]
    },
    {
      "cell_type": "code",
      "execution_count": 165,
      "metadata": {
        "id": "l7cnR5uUdTzp"
      },
      "outputs": [],
      "source": [
        "data=data.with_columns(\n",
        "pl.when((pl.col('AQI')>=0) & (pl.col('AQI')<50)).then(pl.lit('Yaxşı'))\n",
        ".when((pl.col('AQI')>=50) & (pl.col('AQI')<100)).then(pl.lit('Orta'))\n",
        ".when((pl.col('AQI')>=100) & (pl.col('AQI')<150)).then(pl.lit('Qeyri-sağlam'))\n",
        ".otherwise(pl.lit('Təhlükəli'))\n",
        ".alias('AQI_category')\n",
        ")\n",
        "\n",
        "# Şərt veririk."
      ]
    },
    {
      "cell_type": "code",
      "execution_count": 166,
      "metadata": {
        "colab": {
          "base_uri": "https://localhost:8080/",
          "height": 286
        },
        "id": "dY2fp14TdUAJ",
        "outputId": "13ac2d63-17a3-47d0-ea86-868e246c99f6"
      },
      "outputs": [
        {
          "data": {
            "text/html": [
              "<div><style>\n",
              ".dataframe > thead > tr,\n",
              ".dataframe > tbody > tr {\n",
              "  text-align: right;\n",
              "  white-space: pre-wrap;\n",
              "}\n",
              "</style>\n",
              "<small>shape: (6, 11)</small><table border=\"1\" class=\"dataframe\"><thead><tr><th>Date</th><th>City</th><th>CO</th><th>CO2</th><th>NO2</th><th>SO2</th><th>O3</th><th>PM2.5</th><th>PM10</th><th>AQI</th><th>AQI_category</th></tr><tr><td>str</td><td>str</td><td>f64</td><td>f64</td><td>f64</td><td>f64</td><td>f64</td><td>f64</td><td>f64</td><td>f64</td><td>str</td></tr></thead><tbody><tr><td>&quot;2024-08-18 04:00:00+00:00&quot;</td><td>&quot;Dubai&quot;</td><td>229.0</td><td>434.0</td><td>21.0</td><td>10.8</td><td>51.0</td><td>65.9</td><td>391.2</td><td>196.63333</td><td>&quot;Təhlükəli&quot;</td></tr><tr><td>&quot;2024-02-13 16:00:00+00:00&quot;</td><td>&quot;Cairo&quot;</td><td>338.0</td><td>434.0</td><td>38.0</td><td>23.9</td><td>47.0</td><td>36.9</td><td>89.8</td><td>114.68001</td><td>&quot;Qeyri-sağlam&quot;</td></tr><tr><td>&quot;2024-12-27 23:00:00+00:00&quot;</td><td>&quot;New York&quot;</td><td>805.0</td><td>659.0</td><td>84.4</td><td>23.7</td><td>1.0</td><td>59.6</td><td>60.8</td><td>81.240005</td><td>&quot;Orta&quot;</td></tr><tr><td>&quot;2024-12-13 05:00:00+00:00&quot;</td><td>&quot;Sydney&quot;</td><td>149.0</td><td>445.0</td><td>4.9</td><td>12.2</td><td>198.0</td><td>21.5</td><td>23.6</td><td>72.36363</td><td>&quot;Orta&quot;</td></tr><tr><td>&quot;2024-11-06 09:00:00+00:00&quot;</td><td>&quot;London&quot;</td><td>305.0</td><td>552.0</td><td>67.1</td><td>17.7</td><td>5.0</td><td>31.9</td><td>41.0</td><td>70.37001</td><td>&quot;Orta&quot;</td></tr><tr><td>&quot;2024-09-05 18:00:00+00:00&quot;</td><td>&quot;Brasilia&quot;</td><td>455.0</td><td>434.0</td><td>3.4</td><td>1.7</td><td>174.0</td><td>30.9</td><td>44.5</td><td>68.0</td><td>&quot;Orta&quot;</td></tr></tbody></table></div>"
            ],
            "text/plain": [
              "shape: (6, 11)\n",
              "┌────────────────┬──────────┬───────┬───────┬───┬───────┬───────┬───────────┬──────────────┐\n",
              "│ Date           ┆ City     ┆ CO    ┆ CO2   ┆ … ┆ PM2.5 ┆ PM10  ┆ AQI       ┆ AQI_category │\n",
              "│ ---            ┆ ---      ┆ ---   ┆ ---   ┆   ┆ ---   ┆ ---   ┆ ---       ┆ ---          │\n",
              "│ str            ┆ str      ┆ f64   ┆ f64   ┆   ┆ f64   ┆ f64   ┆ f64       ┆ str          │\n",
              "╞════════════════╪══════════╪═══════╪═══════╪═══╪═══════╪═══════╪═══════════╪══════════════╡\n",
              "│ 2024-08-18     ┆ Dubai    ┆ 229.0 ┆ 434.0 ┆ … ┆ 65.9  ┆ 391.2 ┆ 196.63333 ┆ Təhlükəli    │\n",
              "│ 04:00:00+00:00 ┆          ┆       ┆       ┆   ┆       ┆       ┆           ┆              │\n",
              "│ 2024-02-13     ┆ Cairo    ┆ 338.0 ┆ 434.0 ┆ … ┆ 36.9  ┆ 89.8  ┆ 114.68001 ┆ Qeyri-sağlam │\n",
              "│ 16:00:00+00:00 ┆          ┆       ┆       ┆   ┆       ┆       ┆           ┆              │\n",
              "│ 2024-12-27     ┆ New York ┆ 805.0 ┆ 659.0 ┆ … ┆ 59.6  ┆ 60.8  ┆ 81.240005 ┆ Orta         │\n",
              "│ 23:00:00+00:00 ┆          ┆       ┆       ┆   ┆       ┆       ┆           ┆              │\n",
              "│ 2024-12-13     ┆ Sydney   ┆ 149.0 ┆ 445.0 ┆ … ┆ 21.5  ┆ 23.6  ┆ 72.36363  ┆ Orta         │\n",
              "│ 05:00:00+00:00 ┆          ┆       ┆       ┆   ┆       ┆       ┆           ┆              │\n",
              "│ 2024-11-06     ┆ London   ┆ 305.0 ┆ 552.0 ┆ … ┆ 31.9  ┆ 41.0  ┆ 70.37001  ┆ Orta         │\n",
              "│ 09:00:00+00:00 ┆          ┆       ┆       ┆   ┆       ┆       ┆           ┆              │\n",
              "│ 2024-09-05     ┆ Brasilia ┆ 455.0 ┆ 434.0 ┆ … ┆ 30.9  ┆ 44.5  ┆ 68.0      ┆ Orta         │\n",
              "│ 18:00:00+00:00 ┆          ┆       ┆       ┆   ┆       ┆       ┆           ┆              │\n",
              "└────────────────┴──────────┴───────┴───────┴───┴───────┴───────┴───────────┴──────────────┘"
            ]
          },
          "execution_count": 166,
          "metadata": {},
          "output_type": "execute_result"
        }
      ],
      "source": [
        "data.sort('AQI',descending=True).unique('City').sort('AQI',descending=True)"
      ]
    },
    {
      "cell_type": "code",
      "execution_count": 167,
      "metadata": {
        "colab": {
          "base_uri": "https://localhost:8080/",
          "height": 443
        },
        "id": "ME6ahm_aejgS",
        "outputId": "cc289ac8-5b7e-4c89-c56e-58564b80a572"
      },
      "outputs": [
        {
          "data": {
            "text/html": [
              "<div><style>\n",
              ".dataframe > thead > tr,\n",
              ".dataframe > tbody > tr {\n",
              "  text-align: right;\n",
              "  white-space: pre-wrap;\n",
              "}\n",
              "</style>\n",
              "<small>shape: (52_704, 11)</small><table border=\"1\" class=\"dataframe\"><thead><tr><th>Date</th><th>City</th><th>CO</th><th>CO2</th><th>NO2</th><th>SO2</th><th>O3</th><th>PM2.5</th><th>PM10</th><th>AQI</th><th>AQI_category</th></tr><tr><td>str</td><td>str</td><td>f64</td><td>f64</td><td>f64</td><td>f64</td><td>f64</td><td>f64</td><td>f64</td><td>f64</td><td>str</td></tr></thead><tbody><tr><td>&quot;2024-01-01 00:00:00+00:00&quot;</td><td>&quot;Brasilia&quot;</td><td>323.0</td><td>434.0</td><td>23.8</td><td>2.8</td><td>42.0</td><td>12.0</td><td>17.1</td><td>16.8</td><td>&quot;Yaxşı&quot;</td></tr><tr><td>&quot;2024-01-01 00:00:00+00:00&quot;</td><td>&quot;Cairo&quot;</td><td>548.0</td><td>434.0</td><td>62.3</td><td>58.4</td><td>1.0</td><td>39.1</td><td>52.4</td><td>62.173332</td><td>&quot;Orta&quot;</td></tr><tr><td>&quot;2024-01-01 00:00:00+00:00&quot;</td><td>&quot;Dubai&quot;</td><td>232.0</td><td>434.0</td><td>12.4</td><td>6.8</td><td>82.0</td><td>23.9</td><td>60.3</td><td>68.35834</td><td>&quot;Orta&quot;</td></tr><tr><td>&quot;2024-01-01 00:00:00+00:00&quot;</td><td>&quot;London&quot;</td><td>162.0</td><td>434.0</td><td>4.7</td><td>1.0</td><td>65.0</td><td>3.5</td><td>7.3</td><td>9.070833</td><td>&quot;Yaxşı&quot;</td></tr><tr><td>&quot;2024-01-01 00:00:00+00:00&quot;</td><td>&quot;New York&quot;</td><td>514.0</td><td>434.0</td><td>56.8</td><td>10.7</td><td>0.0</td><td>19.3</td><td>27.8</td><td>26.72</td><td>&quot;Yaxşı&quot;</td></tr><tr><td>&hellip;</td><td>&hellip;</td><td>&hellip;</td><td>&hellip;</td><td>&hellip;</td><td>&hellip;</td><td>&hellip;</td><td>&hellip;</td><td>&hellip;</td><td>&hellip;</td><td>&hellip;</td></tr><tr><td>&quot;2024-12-31 23:00:00+00:00&quot;</td><td>&quot;Cairo&quot;</td><td>460.0</td><td>462.0</td><td>46.8</td><td>104.6</td><td>15.0</td><td>41.9</td><td>57.9</td><td>45.55001</td><td>&quot;Yaxşı&quot;</td></tr><tr><td>&quot;2024-12-31 23:00:00+00:00&quot;</td><td>&quot;Dubai&quot;</td><td>349.0</td><td>467.0</td><td>113.5</td><td>57.8</td><td>2.0</td><td>56.3</td><td>94.8</td><td>86.13</td><td>&quot;Orta&quot;</td></tr><tr><td>&quot;2024-12-31 23:00:00+00:00&quot;</td><td>&quot;London&quot;</td><td>139.0</td><td>445.0</td><td>8.1</td><td>1.2</td><td>69.0</td><td>4.0</td><td>8.9</td><td>27.6</td><td>&quot;Yaxşı&quot;</td></tr><tr><td>&quot;2024-12-31 23:00:00+00:00&quot;</td><td>&quot;New York&quot;</td><td>307.0</td><td>483.0</td><td>54.4</td><td>8.9</td><td>14.0</td><td>11.1</td><td>12.8</td><td>25.924997</td><td>&quot;Yaxşı&quot;</td></tr><tr><td>&quot;2024-12-31 23:00:00+00:00&quot;</td><td>&quot;Sydney&quot;</td><td>107.0</td><td>443.0</td><td>7.8</td><td>11.3</td><td>74.0</td><td>12.6</td><td>17.1</td><td>29.6</td><td>&quot;Yaxşı&quot;</td></tr></tbody></table></div>"
            ],
            "text/plain": [
              "shape: (52_704, 11)\n",
              "┌────────────────┬──────────┬───────┬───────┬───┬───────┬──────┬───────────┬──────────────┐\n",
              "│ Date           ┆ City     ┆ CO    ┆ CO2   ┆ … ┆ PM2.5 ┆ PM10 ┆ AQI       ┆ AQI_category │\n",
              "│ ---            ┆ ---      ┆ ---   ┆ ---   ┆   ┆ ---   ┆ ---  ┆ ---       ┆ ---          │\n",
              "│ str            ┆ str      ┆ f64   ┆ f64   ┆   ┆ f64   ┆ f64  ┆ f64       ┆ str          │\n",
              "╞════════════════╪══════════╪═══════╪═══════╪═══╪═══════╪══════╪═══════════╪══════════════╡\n",
              "│ 2024-01-01     ┆ Brasilia ┆ 323.0 ┆ 434.0 ┆ … ┆ 12.0  ┆ 17.1 ┆ 16.8      ┆ Yaxşı        │\n",
              "│ 00:00:00+00:00 ┆          ┆       ┆       ┆   ┆       ┆      ┆           ┆              │\n",
              "│ 2024-01-01     ┆ Cairo    ┆ 548.0 ┆ 434.0 ┆ … ┆ 39.1  ┆ 52.4 ┆ 62.173332 ┆ Orta         │\n",
              "│ 00:00:00+00:00 ┆          ┆       ┆       ┆   ┆       ┆      ┆           ┆              │\n",
              "│ 2024-01-01     ┆ Dubai    ┆ 232.0 ┆ 434.0 ┆ … ┆ 23.9  ┆ 60.3 ┆ 68.35834  ┆ Orta         │\n",
              "│ 00:00:00+00:00 ┆          ┆       ┆       ┆   ┆       ┆      ┆           ┆              │\n",
              "│ 2024-01-01     ┆ London   ┆ 162.0 ┆ 434.0 ┆ … ┆ 3.5   ┆ 7.3  ┆ 9.070833  ┆ Yaxşı        │\n",
              "│ 00:00:00+00:00 ┆          ┆       ┆       ┆   ┆       ┆      ┆           ┆              │\n",
              "│ 2024-01-01     ┆ New York ┆ 514.0 ┆ 434.0 ┆ … ┆ 19.3  ┆ 27.8 ┆ 26.72     ┆ Yaxşı        │\n",
              "│ 00:00:00+00:00 ┆          ┆       ┆       ┆   ┆       ┆      ┆           ┆              │\n",
              "│ …              ┆ …        ┆ …     ┆ …     ┆ … ┆ …     ┆ …    ┆ …         ┆ …            │\n",
              "│ 2024-12-31     ┆ Cairo    ┆ 460.0 ┆ 462.0 ┆ … ┆ 41.9  ┆ 57.9 ┆ 45.55001  ┆ Yaxşı        │\n",
              "│ 23:00:00+00:00 ┆          ┆       ┆       ┆   ┆       ┆      ┆           ┆              │\n",
              "│ 2024-12-31     ┆ Dubai    ┆ 349.0 ┆ 467.0 ┆ … ┆ 56.3  ┆ 94.8 ┆ 86.13     ┆ Orta         │\n",
              "│ 23:00:00+00:00 ┆          ┆       ┆       ┆   ┆       ┆      ┆           ┆              │\n",
              "│ 2024-12-31     ┆ London   ┆ 139.0 ┆ 445.0 ┆ … ┆ 4.0   ┆ 8.9  ┆ 27.6      ┆ Yaxşı        │\n",
              "│ 23:00:00+00:00 ┆          ┆       ┆       ┆   ┆       ┆      ┆           ┆              │\n",
              "│ 2024-12-31     ┆ New York ┆ 307.0 ┆ 483.0 ┆ … ┆ 11.1  ┆ 12.8 ┆ 25.924997 ┆ Yaxşı        │\n",
              "│ 23:00:00+00:00 ┆          ┆       ┆       ┆   ┆       ┆      ┆           ┆              │\n",
              "│ 2024-12-31     ┆ Sydney   ┆ 107.0 ┆ 443.0 ┆ … ┆ 12.6  ┆ 17.1 ┆ 29.6      ┆ Yaxşı        │\n",
              "│ 23:00:00+00:00 ┆          ┆       ┆       ┆   ┆       ┆      ┆           ┆              │\n",
              "└────────────────┴──────────┴───────┴───────┴───┴───────┴──────┴───────────┴──────────────┘"
            ]
          },
          "execution_count": 167,
          "metadata": {},
          "output_type": "execute_result"
        }
      ],
      "source": [
        "data.sort('Date')"
      ]
    },
    {
      "cell_type": "code",
      "execution_count": 230,
      "metadata": {
        "id": "JHdU2pFLezco"
      },
      "outputs": [],
      "source": [
        "the_first_half_of_the_year_high_AQI = data.filter(pl.col('Date')<=\"2024-06-02\").sort('Date',descending=True)\n",
        "second_half_of_the_year_high_AQI = data.filter(pl.col('Date')>=\"2024-06-03\").sort('Date',descending=True)"
      ]
    },
    {
      "cell_type": "code",
      "execution_count": 231,
      "metadata": {
        "colab": {
          "base_uri": "https://localhost:8080/"
        },
        "id": "DxETrW2yf6pI",
        "outputId": "dddceabb-b893-4158-e364-ae3ebed8d941"
      },
      "outputs": [
        {
          "name": "stdout",
          "output_type": "stream",
          "text": [
            "shape: (22_032, 11)\n",
            "┌────────────────┬──────────┬───────┬───────┬───┬───────┬──────┬───────────┬──────────────┐\n",
            "│ Date           ┆ City     ┆ CO    ┆ CO2   ┆ … ┆ PM2.5 ┆ PM10 ┆ AQI       ┆ AQI_category │\n",
            "│ ---            ┆ ---      ┆ ---   ┆ ---   ┆   ┆ ---   ┆ ---  ┆ ---       ┆ ---          │\n",
            "│ str            ┆ str      ┆ f64   ┆ f64   ┆   ┆ f64   ┆ f64  ┆ f64       ┆ str          │\n",
            "╞════════════════╪══════════╪═══════╪═══════╪═══╪═══════╪══════╪═══════════╪══════════════╡\n",
            "│ 2024-06-01     ┆ Brasilia ┆ 169.0 ┆ 434.0 ┆ … ┆ 4.3   ┆ 6.4  ┆ 18.4      ┆ Yaxşı        │\n",
            "│ 23:00:00+00:00 ┆          ┆       ┆       ┆   ┆       ┆      ┆           ┆              │\n",
            "│ 2024-06-01     ┆ Cairo    ┆ 233.0 ┆ 434.0 ┆ … ┆ 25.6  ┆ 42.0 ┆ 62.789997 ┆ Orta         │\n",
            "│ 23:00:00+00:00 ┆          ┆       ┆       ┆   ┆       ┆      ┆           ┆              │\n",
            "│ 2024-06-01     ┆ Dubai    ┆ 606.0 ┆ 434.0 ┆ … ┆ 54.6  ┆ 95.7 ┆ 70.950005 ┆ Orta         │\n",
            "│ 23:00:00+00:00 ┆          ┆       ┆       ┆   ┆       ┆      ┆           ┆              │\n",
            "│ 2024-06-01     ┆ London   ┆ 146.0 ┆ 434.0 ┆ … ┆ 6.3   ┆ 12.0 ┆ 22.8      ┆ Yaxşı        │\n",
            "│ 23:00:00+00:00 ┆          ┆       ┆       ┆   ┆       ┆      ┆           ┆              │\n",
            "│ 2024-06-01     ┆ New York ┆ 300.0 ┆ 434.0 ┆ … ┆ 13.8  ┆ 19.7 ┆ 24.0      ┆ Yaxşı        │\n",
            "│ 23:00:00+00:00 ┆          ┆       ┆       ┆   ┆       ┆      ┆           ┆              │\n",
            "│ …              ┆ …        ┆ …     ┆ …     ┆ … ┆ …     ┆ …    ┆ …         ┆ …            │\n",
            "│ 2024-01-01     ┆ Cairo    ┆ 548.0 ┆ 434.0 ┆ … ┆ 39.1  ┆ 52.4 ┆ 62.173332 ┆ Orta         │\n",
            "│ 00:00:00+00:00 ┆          ┆       ┆       ┆   ┆       ┆      ┆           ┆              │\n",
            "│ 2024-01-01     ┆ Dubai    ┆ 232.0 ┆ 434.0 ┆ … ┆ 23.9  ┆ 60.3 ┆ 68.35834  ┆ Orta         │\n",
            "│ 00:00:00+00:00 ┆          ┆       ┆       ┆   ┆       ┆      ┆           ┆              │\n",
            "│ 2024-01-01     ┆ London   ┆ 162.0 ┆ 434.0 ┆ … ┆ 3.5   ┆ 7.3  ┆ 9.070833  ┆ Yaxşı        │\n",
            "│ 00:00:00+00:00 ┆          ┆       ┆       ┆   ┆       ┆      ┆           ┆              │\n",
            "│ 2024-01-01     ┆ New York ┆ 514.0 ┆ 434.0 ┆ … ┆ 19.3  ┆ 27.8 ┆ 26.72     ┆ Yaxşı        │\n",
            "│ 00:00:00+00:00 ┆          ┆       ┆       ┆   ┆       ┆      ┆           ┆              │\n",
            "│ 2024-01-01     ┆ Sydney   ┆ 71.0  ┆ 434.0 ┆ … ┆ 12.2  ┆ 22.2 ┆ 24.808334 ┆ Yaxşı        │\n",
            "│ 00:00:00+00:00 ┆          ┆       ┆       ┆   ┆       ┆      ┆           ┆              │\n",
            "└────────────────┴──────────┴───────┴───────┴───┴───────┴──────┴───────────┴──────────────┘\n",
            "shape: (30_528, 11)\n",
            "┌────────────────┬──────────┬───────┬───────┬───┬───────┬──────┬───────────┬──────────────┐\n",
            "│ Date           ┆ City     ┆ CO    ┆ CO2   ┆ … ┆ PM2.5 ┆ PM10 ┆ AQI       ┆ AQI_category │\n",
            "│ ---            ┆ ---      ┆ ---   ┆ ---   ┆   ┆ ---   ┆ ---  ┆ ---       ┆ ---          │\n",
            "│ str            ┆ str      ┆ f64   ┆ f64   ┆   ┆ f64   ┆ f64  ┆ f64       ┆ str          │\n",
            "╞════════════════╪══════════╪═══════╪═══════╪═══╪═══════╪══════╪═══════════╪══════════════╡\n",
            "│ 2024-12-31     ┆ Brasilia ┆ 307.0 ┆ 440.0 ┆ … ┆ 7.8   ┆ 7.9  ┆ 20.691666 ┆ Yaxşı        │\n",
            "│ 23:00:00+00:00 ┆          ┆       ┆       ┆   ┆       ┆      ┆           ┆              │\n",
            "│ 2024-12-31     ┆ Cairo    ┆ 460.0 ┆ 462.0 ┆ … ┆ 41.9  ┆ 57.9 ┆ 45.55001  ┆ Yaxşı        │\n",
            "│ 23:00:00+00:00 ┆          ┆       ┆       ┆   ┆       ┆      ┆           ┆              │\n",
            "│ 2024-12-31     ┆ Dubai    ┆ 349.0 ┆ 467.0 ┆ … ┆ 56.3  ┆ 94.8 ┆ 86.13     ┆ Orta         │\n",
            "│ 23:00:00+00:00 ┆          ┆       ┆       ┆   ┆       ┆      ┆           ┆              │\n",
            "│ 2024-12-31     ┆ London   ┆ 139.0 ┆ 445.0 ┆ … ┆ 4.0   ┆ 8.9  ┆ 27.6      ┆ Yaxşı        │\n",
            "│ 23:00:00+00:00 ┆          ┆       ┆       ┆   ┆       ┆      ┆           ┆              │\n",
            "│ 2024-12-31     ┆ New York ┆ 307.0 ┆ 483.0 ┆ … ┆ 11.1  ┆ 12.8 ┆ 25.924997 ┆ Yaxşı        │\n",
            "│ 23:00:00+00:00 ┆          ┆       ┆       ┆   ┆       ┆      ┆           ┆              │\n",
            "│ …              ┆ …        ┆ …     ┆ …     ┆ … ┆ …     ┆ …    ┆ …         ┆ …            │\n",
            "│ 2024-06-03     ┆ Cairo    ┆ 162.0 ┆ 434.0 ┆ … ┆ 15.4  ┆ 20.4 ┆ 34.34166  ┆ Yaxşı        │\n",
            "│ 00:00:00+00:00 ┆          ┆       ┆       ┆   ┆       ┆      ┆           ┆              │\n",
            "│ 2024-06-03     ┆ Dubai    ┆ 270.0 ┆ 434.0 ┆ … ┆ 24.0  ┆ 37.6 ┆ 82.513336 ┆ Orta         │\n",
            "│ 00:00:00+00:00 ┆          ┆       ┆       ┆   ┆       ┆      ┆           ┆              │\n",
            "│ 2024-06-03     ┆ London   ┆ 157.0 ┆ 434.0 ┆ … ┆ 6.7   ┆ 8.7  ┆ 18.691666 ┆ Yaxşı        │\n",
            "│ 00:00:00+00:00 ┆          ┆       ┆       ┆   ┆       ┆      ┆           ┆              │\n",
            "│ 2024-06-03     ┆ New York ┆ 398.0 ┆ 434.0 ┆ … ┆ 28.6  ┆ 41.2 ┆ 49.583336 ┆ Yaxşı        │\n",
            "│ 00:00:00+00:00 ┆          ┆       ┆       ┆   ┆       ┆      ┆           ┆              │\n",
            "│ 2024-06-03     ┆ Sydney   ┆ 116.0 ┆ 434.0 ┆ … ┆ 5.1   ┆ 7.2  ┆ 11.599999 ┆ Yaxşı        │\n",
            "│ 00:00:00+00:00 ┆          ┆       ┆       ┆   ┆       ┆      ┆           ┆              │\n",
            "└────────────────┴──────────┴───────┴───────┴───┴───────┴──────┴───────────┴──────────────┘\n"
          ]
        }
      ],
      "source": [
        "print(the_first_half_of_the_year_high_AQI)\n",
        "print(second_half_of_the_year_high_AQI)"
      ]
    },
    {
      "cell_type": "code",
      "execution_count": 232,
      "metadata": {
        "colab": {
          "base_uri": "https://localhost:8080/",
          "height": 286
        },
        "id": "7iYYHs9dfPhW",
        "outputId": "7f7db49f-559a-48c8-e9a4-0910115795c1"
      },
      "outputs": [
        {
          "data": {
            "text/html": [
              "<div><style>\n",
              ".dataframe > thead > tr,\n",
              ".dataframe > tbody > tr {\n",
              "  text-align: right;\n",
              "  white-space: pre-wrap;\n",
              "}\n",
              "</style>\n",
              "<small>shape: (6, 11)</small><table border=\"1\" class=\"dataframe\"><thead><tr><th>Date</th><th>City</th><th>CO</th><th>CO2</th><th>NO2</th><th>SO2</th><th>O3</th><th>PM2.5</th><th>PM10</th><th>AQI</th><th>AQI_category</th></tr><tr><td>str</td><td>str</td><td>f64</td><td>f64</td><td>f64</td><td>f64</td><td>f64</td><td>f64</td><td>f64</td><td>f64</td><td>str</td></tr></thead><tbody><tr><td>&quot;2024-02-02 02:00:00+00:00&quot;</td><td>&quot;Dubai&quot;</td><td>295.0</td><td>434.0</td><td>29.4</td><td>10.4</td><td>19.0</td><td>62.2</td><td>216.5</td><td>158.64168</td><td>&quot;Təhlükəli&quot;</td></tr><tr><td>&quot;2024-02-13 16:00:00+00:00&quot;</td><td>&quot;Cairo&quot;</td><td>338.0</td><td>434.0</td><td>38.0</td><td>23.9</td><td>47.0</td><td>36.9</td><td>89.8</td><td>114.68001</td><td>&quot;Qeyri-sağlam&quot;</td></tr><tr><td>&quot;2024-01-21 03:00:00+00:00&quot;</td><td>&quot;Sydney&quot;</td><td>148.0</td><td>434.0</td><td>4.6</td><td>8.3</td><td>196.0</td><td>15.7</td><td>22.7</td><td>72.0</td><td>&quot;Orta&quot;</td></tr><tr><td>&quot;2024-01-24 12:00:00+00:00&quot;</td><td>&quot;New York&quot;</td><td>328.0</td><td>434.0</td><td>51.8</td><td>6.8</td><td>3.0</td><td>13.5</td><td>22.5</td><td>66.42667</td><td>&quot;Orta&quot;</td></tr><tr><td>&quot;2024-03-12 05:00:00+00:00&quot;</td><td>&quot;London&quot;</td><td>254.0</td><td>434.0</td><td>15.6</td><td>3.8</td><td>31.0</td><td>23.9</td><td>27.3</td><td>62.31334</td><td>&quot;Orta&quot;</td></tr><tr><td>&quot;2024-03-02 18:00:00+00:00&quot;</td><td>&quot;Brasilia&quot;</td><td>171.0</td><td>434.0</td><td>1.5</td><td>1.2</td><td>120.0</td><td>8.1</td><td>11.6</td><td>53.333336</td><td>&quot;Orta&quot;</td></tr></tbody></table></div>"
            ],
            "text/plain": [
              "shape: (6, 11)\n",
              "┌────────────────┬──────────┬───────┬───────┬───┬───────┬───────┬───────────┬──────────────┐\n",
              "│ Date           ┆ City     ┆ CO    ┆ CO2   ┆ … ┆ PM2.5 ┆ PM10  ┆ AQI       ┆ AQI_category │\n",
              "│ ---            ┆ ---      ┆ ---   ┆ ---   ┆   ┆ ---   ┆ ---   ┆ ---       ┆ ---          │\n",
              "│ str            ┆ str      ┆ f64   ┆ f64   ┆   ┆ f64   ┆ f64   ┆ f64       ┆ str          │\n",
              "╞════════════════╪══════════╪═══════╪═══════╪═══╪═══════╪═══════╪═══════════╪══════════════╡\n",
              "│ 2024-02-02     ┆ Dubai    ┆ 295.0 ┆ 434.0 ┆ … ┆ 62.2  ┆ 216.5 ┆ 158.64168 ┆ Təhlükəli    │\n",
              "│ 02:00:00+00:00 ┆          ┆       ┆       ┆   ┆       ┆       ┆           ┆              │\n",
              "│ 2024-02-13     ┆ Cairo    ┆ 338.0 ┆ 434.0 ┆ … ┆ 36.9  ┆ 89.8  ┆ 114.68001 ┆ Qeyri-sağlam │\n",
              "│ 16:00:00+00:00 ┆          ┆       ┆       ┆   ┆       ┆       ┆           ┆              │\n",
              "│ 2024-01-21     ┆ Sydney   ┆ 148.0 ┆ 434.0 ┆ … ┆ 15.7  ┆ 22.7  ┆ 72.0      ┆ Orta         │\n",
              "│ 03:00:00+00:00 ┆          ┆       ┆       ┆   ┆       ┆       ┆           ┆              │\n",
              "│ 2024-01-24     ┆ New York ┆ 328.0 ┆ 434.0 ┆ … ┆ 13.5  ┆ 22.5  ┆ 66.42667  ┆ Orta         │\n",
              "│ 12:00:00+00:00 ┆          ┆       ┆       ┆   ┆       ┆       ┆           ┆              │\n",
              "│ 2024-03-12     ┆ London   ┆ 254.0 ┆ 434.0 ┆ … ┆ 23.9  ┆ 27.3  ┆ 62.31334  ┆ Orta         │\n",
              "│ 05:00:00+00:00 ┆          ┆       ┆       ┆   ┆       ┆       ┆           ┆              │\n",
              "│ 2024-03-02     ┆ Brasilia ┆ 171.0 ┆ 434.0 ┆ … ┆ 8.1   ┆ 11.6  ┆ 53.333336 ┆ Orta         │\n",
              "│ 18:00:00+00:00 ┆          ┆       ┆       ┆   ┆       ┆       ┆           ┆              │\n",
              "└────────────────┴──────────┴───────┴───────┴───┴───────┴───────┴───────────┴──────────────┘"
            ]
          },
          "execution_count": 232,
          "metadata": {},
          "output_type": "execute_result"
        }
      ],
      "source": [
        "the_first_half_of_the_year_high_AQI.sort('AQI',descending=True).unique('City').sort('AQI',descending=True)"
      ]
    },
    {
      "cell_type": "code",
      "execution_count": 233,
      "metadata": {
        "colab": {
          "base_uri": "https://localhost:8080/",
          "height": 286
        },
        "id": "v8kGwBHLfjtZ",
        "outputId": "18de5956-8b9c-4cd6-c801-36ec0d5e9113"
      },
      "outputs": [
        {
          "data": {
            "text/html": [
              "<div><style>\n",
              ".dataframe > thead > tr,\n",
              ".dataframe > tbody > tr {\n",
              "  text-align: right;\n",
              "  white-space: pre-wrap;\n",
              "}\n",
              "</style>\n",
              "<small>shape: (6, 11)</small><table border=\"1\" class=\"dataframe\"><thead><tr><th>Date</th><th>City</th><th>CO</th><th>CO2</th><th>NO2</th><th>SO2</th><th>O3</th><th>PM2.5</th><th>PM10</th><th>AQI</th><th>AQI_category</th></tr><tr><td>str</td><td>str</td><td>f64</td><td>f64</td><td>f64</td><td>f64</td><td>f64</td><td>f64</td><td>f64</td><td>f64</td><td>str</td></tr></thead><tbody><tr><td>&quot;2024-08-18 04:00:00+00:00&quot;</td><td>&quot;Dubai&quot;</td><td>229.0</td><td>434.0</td><td>21.0</td><td>10.8</td><td>51.0</td><td>65.9</td><td>391.2</td><td>196.63333</td><td>&quot;Təhlükəli&quot;</td></tr><tr><td>&quot;2024-12-27 23:00:00+00:00&quot;</td><td>&quot;Cairo&quot;</td><td>219.0</td><td>451.0</td><td>17.0</td><td>21.2</td><td>47.0</td><td>35.6</td><td>118.9</td><td>98.566666</td><td>&quot;Orta&quot;</td></tr><tr><td>&quot;2024-12-27 23:00:00+00:00&quot;</td><td>&quot;New York&quot;</td><td>805.0</td><td>659.0</td><td>84.4</td><td>23.7</td><td>1.0</td><td>59.6</td><td>60.8</td><td>81.240005</td><td>&quot;Orta&quot;</td></tr><tr><td>&quot;2024-12-13 05:00:00+00:00&quot;</td><td>&quot;Sydney&quot;</td><td>149.0</td><td>445.0</td><td>4.9</td><td>12.2</td><td>198.0</td><td>21.5</td><td>23.6</td><td>72.36363</td><td>&quot;Orta&quot;</td></tr><tr><td>&quot;2024-11-06 09:00:00+00:00&quot;</td><td>&quot;London&quot;</td><td>305.0</td><td>552.0</td><td>67.1</td><td>17.7</td><td>5.0</td><td>31.9</td><td>41.0</td><td>70.37001</td><td>&quot;Orta&quot;</td></tr><tr><td>&quot;2024-09-05 18:00:00+00:00&quot;</td><td>&quot;Brasilia&quot;</td><td>455.0</td><td>434.0</td><td>3.4</td><td>1.7</td><td>174.0</td><td>30.9</td><td>44.5</td><td>68.0</td><td>&quot;Orta&quot;</td></tr></tbody></table></div>"
            ],
            "text/plain": [
              "shape: (6, 11)\n",
              "┌────────────────┬──────────┬───────┬───────┬───┬───────┬───────┬───────────┬──────────────┐\n",
              "│ Date           ┆ City     ┆ CO    ┆ CO2   ┆ … ┆ PM2.5 ┆ PM10  ┆ AQI       ┆ AQI_category │\n",
              "│ ---            ┆ ---      ┆ ---   ┆ ---   ┆   ┆ ---   ┆ ---   ┆ ---       ┆ ---          │\n",
              "│ str            ┆ str      ┆ f64   ┆ f64   ┆   ┆ f64   ┆ f64   ┆ f64       ┆ str          │\n",
              "╞════════════════╪══════════╪═══════╪═══════╪═══╪═══════╪═══════╪═══════════╪══════════════╡\n",
              "│ 2024-08-18     ┆ Dubai    ┆ 229.0 ┆ 434.0 ┆ … ┆ 65.9  ┆ 391.2 ┆ 196.63333 ┆ Təhlükəli    │\n",
              "│ 04:00:00+00:00 ┆          ┆       ┆       ┆   ┆       ┆       ┆           ┆              │\n",
              "│ 2024-12-27     ┆ Cairo    ┆ 219.0 ┆ 451.0 ┆ … ┆ 35.6  ┆ 118.9 ┆ 98.566666 ┆ Orta         │\n",
              "│ 23:00:00+00:00 ┆          ┆       ┆       ┆   ┆       ┆       ┆           ┆              │\n",
              "│ 2024-12-27     ┆ New York ┆ 805.0 ┆ 659.0 ┆ … ┆ 59.6  ┆ 60.8  ┆ 81.240005 ┆ Orta         │\n",
              "│ 23:00:00+00:00 ┆          ┆       ┆       ┆   ┆       ┆       ┆           ┆              │\n",
              "│ 2024-12-13     ┆ Sydney   ┆ 149.0 ┆ 445.0 ┆ … ┆ 21.5  ┆ 23.6  ┆ 72.36363  ┆ Orta         │\n",
              "│ 05:00:00+00:00 ┆          ┆       ┆       ┆   ┆       ┆       ┆           ┆              │\n",
              "│ 2024-11-06     ┆ London   ┆ 305.0 ┆ 552.0 ┆ … ┆ 31.9  ┆ 41.0  ┆ 70.37001  ┆ Orta         │\n",
              "│ 09:00:00+00:00 ┆          ┆       ┆       ┆   ┆       ┆       ┆           ┆              │\n",
              "│ 2024-09-05     ┆ Brasilia ┆ 455.0 ┆ 434.0 ┆ … ┆ 30.9  ┆ 44.5  ┆ 68.0      ┆ Orta         │\n",
              "│ 18:00:00+00:00 ┆          ┆       ┆       ┆   ┆       ┆       ┆           ┆              │\n",
              "└────────────────┴──────────┴───────┴───────┴───┴───────┴───────┴───────────┴──────────────┘"
            ]
          },
          "execution_count": 233,
          "metadata": {},
          "output_type": "execute_result"
        }
      ],
      "source": [
        "second_half_of_the_year_high_AQI.sort('AQI',descending=True).unique('City').sort('AQI',descending=True)"
      ]
    },
    {
      "cell_type": "code",
      "execution_count": 234,
      "metadata": {
        "id": "D_ZKfLwsnB1A"
      },
      "outputs": [],
      "source": [
        "columns=['CO','CO2','NO2','SO2','O3','PM2.5','PM10']"
      ]
    },
    {
      "cell_type": "code",
      "execution_count": 235,
      "metadata": {
        "colab": {
          "base_uri": "https://localhost:8080/",
          "height": 129
        },
        "id": "MN6wqkCIiC2K",
        "outputId": "f4c6f8e6-e414-4b91-de69-1ffeae2ded1c"
      },
      "outputs": [
        {
          "data": {
            "text/html": [
              "<div><style>\n",
              ".dataframe > thead > tr,\n",
              ".dataframe > tbody > tr {\n",
              "  text-align: right;\n",
              "  white-space: pre-wrap;\n",
              "}\n",
              "</style>\n",
              "<small>shape: (1, 11)</small><table border=\"1\" class=\"dataframe\"><thead><tr><th>Date</th><th>City</th><th>CO</th><th>CO2</th><th>NO2</th><th>SO2</th><th>O3</th><th>PM2.5</th><th>PM10</th><th>AQI</th><th>AQI_category</th></tr><tr><td>str</td><td>str</td><td>f64</td><td>f64</td><td>f64</td><td>f64</td><td>f64</td><td>f64</td><td>f64</td><td>f64</td><td>str</td></tr></thead><tbody><tr><td>&quot;2024-01-21 03:00:00+00:00&quot;</td><td>&quot;Sydney&quot;</td><td>148.0</td><td>434.0</td><td>4.6</td><td>8.3</td><td>196.0</td><td>15.7</td><td>22.7</td><td>72.0</td><td>&quot;Orta&quot;</td></tr></tbody></table></div>"
            ],
            "text/plain": [
              "shape: (1, 11)\n",
              "┌───────────────────────────┬────────┬───────┬───────┬───┬───────┬──────┬──────┬──────────────┐\n",
              "│ Date                      ┆ City   ┆ CO    ┆ CO2   ┆ … ┆ PM2.5 ┆ PM10 ┆ AQI  ┆ AQI_category │\n",
              "│ ---                       ┆ ---    ┆ ---   ┆ ---   ┆   ┆ ---   ┆ ---  ┆ ---  ┆ ---          │\n",
              "│ str                       ┆ str    ┆ f64   ┆ f64   ┆   ┆ f64   ┆ f64  ┆ f64  ┆ str          │\n",
              "╞═══════════════════════════╪════════╪═══════╪═══════╪═══╪═══════╪══════╪══════╪══════════════╡\n",
              "│ 2024-01-21 03:00:00+00:00 ┆ Sydney ┆ 148.0 ┆ 434.0 ┆ … ┆ 15.7  ┆ 22.7 ┆ 72.0 ┆ Orta         │\n",
              "└───────────────────────────┴────────┴───────┴───────┴───┴───────┴──────┴──────┴──────────────┘"
            ]
          },
          "execution_count": 235,
          "metadata": {},
          "output_type": "execute_result"
        }
      ],
      "source": [
        "the_first_half_of_the_year_high_AQI.sort('AQI',descending=True).unique('City').sort('AQI',descending=True).filter(pl.col('City')=='Sydney')"
      ]
    },
    {
      "cell_type": "code",
      "execution_count": 236,
      "metadata": {
        "colab": {
          "base_uri": "https://localhost:8080/",
          "height": 129
        },
        "id": "OGn75tqGiXuJ",
        "outputId": "702a80d6-ae0c-4be0-cb02-908d4088786e"
      },
      "outputs": [
        {
          "data": {
            "text/html": [
              "<div><style>\n",
              ".dataframe > thead > tr,\n",
              ".dataframe > tbody > tr {\n",
              "  text-align: right;\n",
              "  white-space: pre-wrap;\n",
              "}\n",
              "</style>\n",
              "<small>shape: (1, 11)</small><table border=\"1\" class=\"dataframe\"><thead><tr><th>Date</th><th>City</th><th>CO</th><th>CO2</th><th>NO2</th><th>SO2</th><th>O3</th><th>PM2.5</th><th>PM10</th><th>AQI</th><th>AQI_category</th></tr><tr><td>str</td><td>str</td><td>f64</td><td>f64</td><td>f64</td><td>f64</td><td>f64</td><td>f64</td><td>f64</td><td>f64</td><td>str</td></tr></thead><tbody><tr><td>&quot;2024-01-24 12:00:00+00:00&quot;</td><td>&quot;New York&quot;</td><td>328.0</td><td>434.0</td><td>51.8</td><td>6.8</td><td>3.0</td><td>13.5</td><td>22.5</td><td>66.42667</td><td>&quot;Orta&quot;</td></tr></tbody></table></div>"
            ],
            "text/plain": [
              "shape: (1, 11)\n",
              "┌────────────────┬──────────┬───────┬───────┬───┬───────┬──────┬──────────┬──────────────┐\n",
              "│ Date           ┆ City     ┆ CO    ┆ CO2   ┆ … ┆ PM2.5 ┆ PM10 ┆ AQI      ┆ AQI_category │\n",
              "│ ---            ┆ ---      ┆ ---   ┆ ---   ┆   ┆ ---   ┆ ---  ┆ ---      ┆ ---          │\n",
              "│ str            ┆ str      ┆ f64   ┆ f64   ┆   ┆ f64   ┆ f64  ┆ f64      ┆ str          │\n",
              "╞════════════════╪══════════╪═══════╪═══════╪═══╪═══════╪══════╪══════════╪══════════════╡\n",
              "│ 2024-01-24     ┆ New York ┆ 328.0 ┆ 434.0 ┆ … ┆ 13.5  ┆ 22.5 ┆ 66.42667 ┆ Orta         │\n",
              "│ 12:00:00+00:00 ┆          ┆       ┆       ┆   ┆       ┆      ┆          ┆              │\n",
              "└────────────────┴──────────┴───────┴───────┴───┴───────┴──────┴──────────┴──────────────┘"
            ]
          },
          "execution_count": 236,
          "metadata": {},
          "output_type": "execute_result"
        }
      ],
      "source": [
        "the_first_half_of_the_year_high_AQI.sort('AQI',descending=True).unique('City').sort('AQI',descending=True).filter(pl.col('City')=='New York')"
      ]
    },
    {
      "cell_type": "code",
      "execution_count": 237,
      "metadata": {
        "colab": {
          "base_uri": "https://localhost:8080/"
        },
        "id": "q7HoiAWynDMc",
        "outputId": "1bd04580-71f9-4d08-bfab-31e95a10ee97"
      },
      "outputs": [
        {
          "name": "stdout",
          "output_type": "stream",
          "text": [
            "{'CO': 0.54, 'CO2': 0.02, 'NO2': 0.4, 'SO2': 0.45, 'O3': 0.45, 'PM2.5': 0.82, 'PM10': 0.85}\n"
          ]
        }
      ],
      "source": [
        "print({i:round(data.select(pl.corr(i,'AQI')).item(),2) for i in columns})"
      ]
    },
    {
      "cell_type": "code",
      "execution_count": 238,
      "metadata": {
        "colab": {
          "base_uri": "https://localhost:8080/",
          "height": 129
        },
        "id": "QlLw2lCLmp00",
        "outputId": "fb208d33-544b-4474-be0e-9aeb397a6d6f"
      },
      "outputs": [
        {
          "data": {
            "text/html": [
              "<div><style>\n",
              ".dataframe > thead > tr,\n",
              ".dataframe > tbody > tr {\n",
              "  text-align: right;\n",
              "  white-space: pre-wrap;\n",
              "}\n",
              "</style>\n",
              "<small>shape: (1, 11)</small><table border=\"1\" class=\"dataframe\"><thead><tr><th>Date</th><th>City</th><th>CO</th><th>CO2</th><th>NO2</th><th>SO2</th><th>O3</th><th>PM2.5</th><th>PM10</th><th>AQI</th><th>AQI_category</th></tr><tr><td>str</td><td>str</td><td>f64</td><td>f64</td><td>f64</td><td>f64</td><td>f64</td><td>f64</td><td>f64</td><td>f64</td><td>str</td></tr></thead><tbody><tr><td>&quot;2024-12-13 05:00:00+00:00&quot;</td><td>&quot;Sydney&quot;</td><td>149.0</td><td>445.0</td><td>4.9</td><td>12.2</td><td>198.0</td><td>21.5</td><td>23.6</td><td>72.36363</td><td>&quot;Orta&quot;</td></tr></tbody></table></div>"
            ],
            "text/plain": [
              "shape: (1, 11)\n",
              "┌───────────────────────────┬────────┬───────┬───────┬───┬───────┬──────┬──────────┬──────────────┐\n",
              "│ Date                      ┆ City   ┆ CO    ┆ CO2   ┆ … ┆ PM2.5 ┆ PM10 ┆ AQI      ┆ AQI_category │\n",
              "│ ---                       ┆ ---    ┆ ---   ┆ ---   ┆   ┆ ---   ┆ ---  ┆ ---      ┆ ---          │\n",
              "│ str                       ┆ str    ┆ f64   ┆ f64   ┆   ┆ f64   ┆ f64  ┆ f64      ┆ str          │\n",
              "╞═══════════════════════════╪════════╪═══════╪═══════╪═══╪═══════╪══════╪══════════╪══════════════╡\n",
              "│ 2024-12-13 05:00:00+00:00 ┆ Sydney ┆ 149.0 ┆ 445.0 ┆ … ┆ 21.5  ┆ 23.6 ┆ 72.36363 ┆ Orta         │\n",
              "└───────────────────────────┴────────┴───────┴───────┴───┴───────┴──────┴──────────┴──────────────┘"
            ]
          },
          "execution_count": 238,
          "metadata": {},
          "output_type": "execute_result"
        }
      ],
      "source": [
        "second_half_of_the_year_high_AQI.sort('AQI',descending=True).unique('City').sort('AQI',descending=True).filter(pl.col('City')=='Sydney')"
      ]
    },
    {
      "cell_type": "code",
      "execution_count": 239,
      "metadata": {
        "colab": {
          "base_uri": "https://localhost:8080/",
          "height": 129
        },
        "id": "4-6if75tmp7d",
        "outputId": "be427d09-bce3-4165-ac05-b0d7b36f1a96"
      },
      "outputs": [
        {
          "data": {
            "text/html": [
              "<div><style>\n",
              ".dataframe > thead > tr,\n",
              ".dataframe > tbody > tr {\n",
              "  text-align: right;\n",
              "  white-space: pre-wrap;\n",
              "}\n",
              "</style>\n",
              "<small>shape: (1, 11)</small><table border=\"1\" class=\"dataframe\"><thead><tr><th>Date</th><th>City</th><th>CO</th><th>CO2</th><th>NO2</th><th>SO2</th><th>O3</th><th>PM2.5</th><th>PM10</th><th>AQI</th><th>AQI_category</th></tr><tr><td>str</td><td>str</td><td>f64</td><td>f64</td><td>f64</td><td>f64</td><td>f64</td><td>f64</td><td>f64</td><td>f64</td><td>str</td></tr></thead><tbody><tr><td>&quot;2024-12-27 23:00:00+00:00&quot;</td><td>&quot;New York&quot;</td><td>805.0</td><td>659.0</td><td>84.4</td><td>23.7</td><td>1.0</td><td>59.6</td><td>60.8</td><td>81.240005</td><td>&quot;Orta&quot;</td></tr></tbody></table></div>"
            ],
            "text/plain": [
              "shape: (1, 11)\n",
              "┌────────────────┬──────────┬───────┬───────┬───┬───────┬──────┬───────────┬──────────────┐\n",
              "│ Date           ┆ City     ┆ CO    ┆ CO2   ┆ … ┆ PM2.5 ┆ PM10 ┆ AQI       ┆ AQI_category │\n",
              "│ ---            ┆ ---      ┆ ---   ┆ ---   ┆   ┆ ---   ┆ ---  ┆ ---       ┆ ---          │\n",
              "│ str            ┆ str      ┆ f64   ┆ f64   ┆   ┆ f64   ┆ f64  ┆ f64       ┆ str          │\n",
              "╞════════════════╪══════════╪═══════╪═══════╪═══╪═══════╪══════╪═══════════╪══════════════╡\n",
              "│ 2024-12-27     ┆ New York ┆ 805.0 ┆ 659.0 ┆ … ┆ 59.6  ┆ 60.8 ┆ 81.240005 ┆ Orta         │\n",
              "│ 23:00:00+00:00 ┆          ┆       ┆       ┆   ┆       ┆      ┆           ┆              │\n",
              "└────────────────┴──────────┴───────┴───────┴───┴───────┴──────┴───────────┴──────────────┘"
            ]
          },
          "execution_count": 239,
          "metadata": {},
          "output_type": "execute_result"
        }
      ],
      "source": [
        "  second_half_of_the_year_high_AQI.sort('AQI',descending=True).unique('City').sort('AQI',descending=True).filter(pl.col('City')=='New York')"
      ]
    },
    {
      "cell_type": "code",
      "execution_count": 178,
      "metadata": {
        "colab": {
          "base_uri": "https://localhost:8080/",
          "height": 286
        },
        "id": "3Vy37c5Wt0gA",
        "outputId": "b7863fa4-068e-4b96-f68d-f464058aa8bc"
      },
      "outputs": [
        {
          "data": {
            "text/html": [
              "<div><style>\n",
              ".dataframe > thead > tr,\n",
              ".dataframe > tbody > tr {\n",
              "  text-align: right;\n",
              "  white-space: pre-wrap;\n",
              "}\n",
              "</style>\n",
              "<small>shape: (6, 11)</small><table border=\"1\" class=\"dataframe\"><thead><tr><th>Date</th><th>City</th><th>CO</th><th>CO2</th><th>NO2</th><th>SO2</th><th>O3</th><th>PM2.5</th><th>PM10</th><th>AQI</th><th>AQI_category</th></tr><tr><td>str</td><td>str</td><td>f64</td><td>f64</td><td>f64</td><td>f64</td><td>f64</td><td>f64</td><td>f64</td><td>f64</td><td>str</td></tr></thead><tbody><tr><td>&quot;2024-01-01 00:00:00+00:00&quot;</td><td>&quot;London&quot;</td><td>162.0</td><td>434.0</td><td>4.7</td><td>1.0</td><td>65.0</td><td>3.5</td><td>7.3</td><td>9.070833</td><td>&quot;Yaxşı&quot;</td></tr><tr><td>&quot;2024-01-01 00:00:00+00:00&quot;</td><td>&quot;Brasilia&quot;</td><td>323.0</td><td>434.0</td><td>23.8</td><td>2.8</td><td>42.0</td><td>12.0</td><td>17.1</td><td>16.8</td><td>&quot;Yaxşı&quot;</td></tr><tr><td>&quot;2024-01-01 00:00:00+00:00&quot;</td><td>&quot;Sydney&quot;</td><td>71.0</td><td>434.0</td><td>7.7</td><td>4.4</td><td>29.0</td><td>12.2</td><td>22.2</td><td>24.808334</td><td>&quot;Yaxşı&quot;</td></tr><tr><td>&quot;2024-01-01 00:00:00+00:00&quot;</td><td>&quot;New York&quot;</td><td>514.0</td><td>434.0</td><td>56.8</td><td>10.7</td><td>0.0</td><td>19.3</td><td>27.8</td><td>26.72</td><td>&quot;Yaxşı&quot;</td></tr><tr><td>&quot;2024-01-01 00:00:00+00:00&quot;</td><td>&quot;Cairo&quot;</td><td>548.0</td><td>434.0</td><td>62.3</td><td>58.4</td><td>1.0</td><td>39.1</td><td>52.4</td><td>62.173332</td><td>&quot;Orta&quot;</td></tr><tr><td>&quot;2024-01-01 00:00:00+00:00&quot;</td><td>&quot;Dubai&quot;</td><td>232.0</td><td>434.0</td><td>12.4</td><td>6.8</td><td>82.0</td><td>23.9</td><td>60.3</td><td>68.35834</td><td>&quot;Orta&quot;</td></tr></tbody></table></div>"
            ],
            "text/plain": [
              "shape: (6, 11)\n",
              "┌────────────────┬──────────┬───────┬───────┬───┬───────┬──────┬───────────┬──────────────┐\n",
              "│ Date           ┆ City     ┆ CO    ┆ CO2   ┆ … ┆ PM2.5 ┆ PM10 ┆ AQI       ┆ AQI_category │\n",
              "│ ---            ┆ ---      ┆ ---   ┆ ---   ┆   ┆ ---   ┆ ---  ┆ ---       ┆ ---          │\n",
              "│ str            ┆ str      ┆ f64   ┆ f64   ┆   ┆ f64   ┆ f64  ┆ f64       ┆ str          │\n",
              "╞════════════════╪══════════╪═══════╪═══════╪═══╪═══════╪══════╪═══════════╪══════════════╡\n",
              "│ 2024-01-01     ┆ London   ┆ 162.0 ┆ 434.0 ┆ … ┆ 3.5   ┆ 7.3  ┆ 9.070833  ┆ Yaxşı        │\n",
              "│ 00:00:00+00:00 ┆          ┆       ┆       ┆   ┆       ┆      ┆           ┆              │\n",
              "│ 2024-01-01     ┆ Brasilia ┆ 323.0 ┆ 434.0 ┆ … ┆ 12.0  ┆ 17.1 ┆ 16.8      ┆ Yaxşı        │\n",
              "│ 00:00:00+00:00 ┆          ┆       ┆       ┆   ┆       ┆      ┆           ┆              │\n",
              "│ 2024-01-01     ┆ Sydney   ┆ 71.0  ┆ 434.0 ┆ … ┆ 12.2  ┆ 22.2 ┆ 24.808334 ┆ Yaxşı        │\n",
              "│ 00:00:00+00:00 ┆          ┆       ┆       ┆   ┆       ┆      ┆           ┆              │\n",
              "│ 2024-01-01     ┆ New York ┆ 514.0 ┆ 434.0 ┆ … ┆ 19.3  ┆ 27.8 ┆ 26.72     ┆ Yaxşı        │\n",
              "│ 00:00:00+00:00 ┆          ┆       ┆       ┆   ┆       ┆      ┆           ┆              │\n",
              "│ 2024-01-01     ┆ Cairo    ┆ 548.0 ┆ 434.0 ┆ … ┆ 39.1  ┆ 52.4 ┆ 62.173332 ┆ Orta         │\n",
              "│ 00:00:00+00:00 ┆          ┆       ┆       ┆   ┆       ┆      ┆           ┆              │\n",
              "│ 2024-01-01     ┆ Dubai    ┆ 232.0 ┆ 434.0 ┆ … ┆ 23.9  ┆ 60.3 ┆ 68.35834  ┆ Orta         │\n",
              "│ 00:00:00+00:00 ┆          ┆       ┆       ┆   ┆       ┆      ┆           ┆              │\n",
              "└────────────────┴──────────┴───────┴───────┴───┴───────┴──────┴───────────┴──────────────┘"
            ]
          },
          "execution_count": 178,
          "metadata": {},
          "output_type": "execute_result"
        }
      ],
      "source": [
        "data.filter(pl.col('Date')<=\"2024-06-02\").unique('City').sort('AQI')"
      ]
    },
    {
      "cell_type": "code",
      "execution_count": 179,
      "metadata": {
        "colab": {
          "base_uri": "https://localhost:8080/",
          "height": 286
        },
        "id": "GoEPDOhCv1yx",
        "outputId": "85984c4a-e295-45ec-c622-df7decea6005"
      },
      "outputs": [
        {
          "data": {
            "text/html": [
              "<div><style>\n",
              ".dataframe > thead > tr,\n",
              ".dataframe > tbody > tr {\n",
              "  text-align: right;\n",
              "  white-space: pre-wrap;\n",
              "}\n",
              "</style>\n",
              "<small>shape: (6, 11)</small><table border=\"1\" class=\"dataframe\"><thead><tr><th>Date</th><th>City</th><th>CO</th><th>CO2</th><th>NO2</th><th>SO2</th><th>O3</th><th>PM2.5</th><th>PM10</th><th>AQI</th><th>AQI_category</th></tr><tr><td>str</td><td>str</td><td>f64</td><td>f64</td><td>f64</td><td>f64</td><td>f64</td><td>f64</td><td>f64</td><td>f64</td><td>str</td></tr></thead><tbody><tr><td>&quot;2024-08-18 04:00:00+00:00&quot;</td><td>&quot;Dubai&quot;</td><td>229.0</td><td>434.0</td><td>21.0</td><td>10.8</td><td>51.0</td><td>65.9</td><td>391.2</td><td>196.63333</td><td>&quot;Təhlükəli&quot;</td></tr><tr><td>&quot;2024-02-13 16:00:00+00:00&quot;</td><td>&quot;Cairo&quot;</td><td>338.0</td><td>434.0</td><td>38.0</td><td>23.9</td><td>47.0</td><td>36.9</td><td>89.8</td><td>114.68001</td><td>&quot;Qeyri-sağlam&quot;</td></tr><tr><td>&quot;2024-12-27 23:00:00+00:00&quot;</td><td>&quot;New York&quot;</td><td>805.0</td><td>659.0</td><td>84.4</td><td>23.7</td><td>1.0</td><td>59.6</td><td>60.8</td><td>81.240005</td><td>&quot;Orta&quot;</td></tr><tr><td>&quot;2024-12-13 05:00:00+00:00&quot;</td><td>&quot;Sydney&quot;</td><td>149.0</td><td>445.0</td><td>4.9</td><td>12.2</td><td>198.0</td><td>21.5</td><td>23.6</td><td>72.36363</td><td>&quot;Orta&quot;</td></tr><tr><td>&quot;2024-11-06 09:00:00+00:00&quot;</td><td>&quot;London&quot;</td><td>305.0</td><td>552.0</td><td>67.1</td><td>17.7</td><td>5.0</td><td>31.9</td><td>41.0</td><td>70.37001</td><td>&quot;Orta&quot;</td></tr><tr><td>&quot;2024-09-05 18:00:00+00:00&quot;</td><td>&quot;Brasilia&quot;</td><td>455.0</td><td>434.0</td><td>3.4</td><td>1.7</td><td>174.0</td><td>30.9</td><td>44.5</td><td>68.0</td><td>&quot;Orta&quot;</td></tr></tbody></table></div>"
            ],
            "text/plain": [
              "shape: (6, 11)\n",
              "┌────────────────┬──────────┬───────┬───────┬───┬───────┬───────┬───────────┬──────────────┐\n",
              "│ Date           ┆ City     ┆ CO    ┆ CO2   ┆ … ┆ PM2.5 ┆ PM10  ┆ AQI       ┆ AQI_category │\n",
              "│ ---            ┆ ---      ┆ ---   ┆ ---   ┆   ┆ ---   ┆ ---   ┆ ---       ┆ ---          │\n",
              "│ str            ┆ str      ┆ f64   ┆ f64   ┆   ┆ f64   ┆ f64   ┆ f64       ┆ str          │\n",
              "╞════════════════╪══════════╪═══════╪═══════╪═══╪═══════╪═══════╪═══════════╪══════════════╡\n",
              "│ 2024-08-18     ┆ Dubai    ┆ 229.0 ┆ 434.0 ┆ … ┆ 65.9  ┆ 391.2 ┆ 196.63333 ┆ Təhlükəli    │\n",
              "│ 04:00:00+00:00 ┆          ┆       ┆       ┆   ┆       ┆       ┆           ┆              │\n",
              "│ 2024-02-13     ┆ Cairo    ┆ 338.0 ┆ 434.0 ┆ … ┆ 36.9  ┆ 89.8  ┆ 114.68001 ┆ Qeyri-sağlam │\n",
              "│ 16:00:00+00:00 ┆          ┆       ┆       ┆   ┆       ┆       ┆           ┆              │\n",
              "│ 2024-12-27     ┆ New York ┆ 805.0 ┆ 659.0 ┆ … ┆ 59.6  ┆ 60.8  ┆ 81.240005 ┆ Orta         │\n",
              "│ 23:00:00+00:00 ┆          ┆       ┆       ┆   ┆       ┆       ┆           ┆              │\n",
              "│ 2024-12-13     ┆ Sydney   ┆ 149.0 ┆ 445.0 ┆ … ┆ 21.5  ┆ 23.6  ┆ 72.36363  ┆ Orta         │\n",
              "│ 05:00:00+00:00 ┆          ┆       ┆       ┆   ┆       ┆       ┆           ┆              │\n",
              "│ 2024-11-06     ┆ London   ┆ 305.0 ┆ 552.0 ┆ … ┆ 31.9  ┆ 41.0  ┆ 70.37001  ┆ Orta         │\n",
              "│ 09:00:00+00:00 ┆          ┆       ┆       ┆   ┆       ┆       ┆           ┆              │\n",
              "│ 2024-09-05     ┆ Brasilia ┆ 455.0 ┆ 434.0 ┆ … ┆ 30.9  ┆ 44.5  ┆ 68.0      ┆ Orta         │\n",
              "│ 18:00:00+00:00 ┆          ┆       ┆       ┆   ┆       ┆       ┆           ┆              │\n",
              "└────────────────┴──────────┴───────┴───────┴───┴───────┴───────┴───────────┴──────────────┘"
            ]
          },
          "execution_count": 179,
          "metadata": {},
          "output_type": "execute_result"
        }
      ],
      "source": [
        "data.sort('AQI',descending=True).unique('City').sort('AQI',descending=True)"
      ]
    },
    {
      "cell_type": "code",
      "execution_count": 241,
      "metadata": {
        "colab": {
          "base_uri": "https://localhost:8080/",
          "height": 487
        },
        "id": "le_JbksEv9xM",
        "outputId": "fc4f686d-9d7f-494b-9c42-eb7d197fbd13"
      },
      "outputs": [
        {
          "data": {
            "image/png": "[encoded data removed]",
            "text/plain": [
              "<Figure size 1000x500 with 1 Axes>"
            ]
          },
          "metadata": {},
          "output_type": "display_data"
        }
      ],
      "source": [
        "import matplotlib.pyplot as plt\n",
        "\n",
        "plt.figure(figsize=(10, 5))\n",
        "plt.barh(a['Date'], a['AQI'], color='skyblue')\n",
        "plt.xlabel(\"AQI\")\n",
        "plt.ylabel(\"Date and time\")\n",
        "plt.title(\"18 Avqust 2024 Dubai AQI\")\n",
        "plt.show()"
      ]
    },
    {
      "cell_type": "code",
      "execution_count": null,
      "metadata": {
        "id": "Zcee6ONahtJj"
      },
      "outputs": [],
      "source": []
    },
    {
      "cell_type": "code",
      "execution_count": 181,
      "metadata": {
        "colab": {
          "base_uri": "https://localhost:8080/",
          "height": 443
        },
        "id": "11TPwetEuudx",
        "outputId": "32e684eb-cac6-4761-badb-902dc7b7d2cf"
      },
      "outputs": [
        {
          "data": {
            "text/html": [
              "<div><style>\n",
              ".dataframe > thead > tr,\n",
              ".dataframe > tbody > tr {\n",
              "  text-align: right;\n",
              "  white-space: pre-wrap;\n",
              "}\n",
              "</style>\n",
              "<small>shape: (24, 11)</small><table border=\"1\" class=\"dataframe\"><thead><tr><th>Date</th><th>City</th><th>CO</th><th>CO2</th><th>NO2</th><th>SO2</th><th>O3</th><th>PM2.5</th><th>PM10</th><th>AQI</th><th>AQI_category</th></tr><tr><td>str</td><td>str</td><td>f64</td><td>f64</td><td>f64</td><td>f64</td><td>f64</td><td>f64</td><td>f64</td><td>f64</td><td>str</td></tr></thead><tbody><tr><td>&quot;2024-08-18 04:00:00+00:00&quot;</td><td>&quot;Dubai&quot;</td><td>229.0</td><td>434.0</td><td>21.0</td><td>10.8</td><td>51.0</td><td>65.9</td><td>391.2</td><td>196.63333</td><td>&quot;Təhlükəli&quot;</td></tr><tr><td>&quot;2024-08-18 03:00:00+00:00&quot;</td><td>&quot;Dubai&quot;</td><td>209.0</td><td>434.0</td><td>20.6</td><td>9.5</td><td>50.0</td><td>59.3</td><td>339.0</td><td>196.41666</td><td>&quot;Təhlükəli&quot;</td></tr><tr><td>&quot;2024-08-18 05:00:00+00:00&quot;</td><td>&quot;Dubai&quot;</td><td>254.0</td><td>434.0</td><td>21.6</td><td>12.6</td><td>52.0</td><td>70.8</td><td>443.3</td><td>195.935</td><td>&quot;Təhlükəli&quot;</td></tr><tr><td>&quot;2024-08-18 02:00:00+00:00&quot;</td><td>&quot;Dubai&quot;</td><td>201.0</td><td>434.0</td><td>21.0</td><td>9.3</td><td>49.0</td><td>53.0</td><td>314.8</td><td>195.22168</td><td>&quot;Təhlükəli&quot;</td></tr><tr><td>&quot;2024-08-18 06:00:00+00:00&quot;</td><td>&quot;Dubai&quot;</td><td>270.0</td><td>434.0</td><td>21.6</td><td>13.6</td><td>57.0</td><td>69.6</td><td>452.6</td><td>195.19</td><td>&quot;Təhlükəli&quot;</td></tr><tr><td>&hellip;</td><td>&hellip;</td><td>&hellip;</td><td>&hellip;</td><td>&hellip;</td><td>&hellip;</td><td>&hellip;</td><td>&hellip;</td><td>&hellip;</td><td>&hellip;</td><td>&hellip;</td></tr><tr><td>&quot;2024-08-18 19:00:00+00:00&quot;</td><td>&quot;Dubai&quot;</td><td>210.0</td><td>434.0</td><td>26.8</td><td>10.8</td><td>50.0</td><td>58.0</td><td>313.9</td><td>186.03336</td><td>&quot;Təhlükəli&quot;</td></tr><tr><td>&quot;2024-08-18 20:00:00+00:00&quot;</td><td>&quot;Dubai&quot;</td><td>207.0</td><td>434.0</td><td>25.1</td><td>10.1</td><td>52.0</td><td>56.5</td><td>297.1</td><td>183.1</td><td>&quot;Təhlükəli&quot;</td></tr><tr><td>&quot;2024-08-18 21:00:00+00:00&quot;</td><td>&quot;Dubai&quot;</td><td>206.0</td><td>434.0</td><td>24.0</td><td>9.7</td><td>52.0</td><td>52.7</td><td>273.8</td><td>180.44666</td><td>&quot;Təhlükəli&quot;</td></tr><tr><td>&quot;2024-08-18 22:00:00+00:00&quot;</td><td>&quot;Dubai&quot;</td><td>207.0</td><td>434.0</td><td>23.4</td><td>9.8</td><td>50.0</td><td>50.9</td><td>263.6</td><td>177.885</td><td>&quot;Təhlükəli&quot;</td></tr><tr><td>&quot;2024-08-18 23:00:00+00:00&quot;</td><td>&quot;Dubai&quot;</td><td>211.0</td><td>434.0</td><td>23.3</td><td>10.3</td><td>48.0</td><td>52.0</td><td>264.5</td><td>175.71335</td><td>&quot;Təhlükəli&quot;</td></tr></tbody></table></div>"
            ],
            "text/plain": [
              "shape: (24, 11)\n",
              "┌───────────────────────────┬───────┬───────┬───────┬───┬───────┬───────┬───────────┬──────────────┐\n",
              "│ Date                      ┆ City  ┆ CO    ┆ CO2   ┆ … ┆ PM2.5 ┆ PM10  ┆ AQI       ┆ AQI_category │\n",
              "│ ---                       ┆ ---   ┆ ---   ┆ ---   ┆   ┆ ---   ┆ ---   ┆ ---       ┆ ---          │\n",
              "│ str                       ┆ str   ┆ f64   ┆ f64   ┆   ┆ f64   ┆ f64   ┆ f64       ┆ str          │\n",
              "╞═══════════════════════════╪═══════╪═══════╪═══════╪═══╪═══════╪═══════╪═══════════╪══════════════╡\n",
              "│ 2024-08-18 04:00:00+00:00 ┆ Dubai ┆ 229.0 ┆ 434.0 ┆ … ┆ 65.9  ┆ 391.2 ┆ 196.63333 ┆ Təhlükəli    │\n",
              "│ 2024-08-18 03:00:00+00:00 ┆ Dubai ┆ 209.0 ┆ 434.0 ┆ … ┆ 59.3  ┆ 339.0 ┆ 196.41666 ┆ Təhlükəli    │\n",
              "│ 2024-08-18 05:00:00+00:00 ┆ Dubai ┆ 254.0 ┆ 434.0 ┆ … ┆ 70.8  ┆ 443.3 ┆ 195.935   ┆ Təhlükəli    │\n",
              "│ 2024-08-18 02:00:00+00:00 ┆ Dubai ┆ 201.0 ┆ 434.0 ┆ … ┆ 53.0  ┆ 314.8 ┆ 195.22168 ┆ Təhlükəli    │\n",
              "│ 2024-08-18 06:00:00+00:00 ┆ Dubai ┆ 270.0 ┆ 434.0 ┆ … ┆ 69.6  ┆ 452.6 ┆ 195.19    ┆ Təhlükəli    │\n",
              "│ …                         ┆ …     ┆ …     ┆ …     ┆ … ┆ …     ┆ …     ┆ …         ┆ …            │\n",
              "│ 2024-08-18 19:00:00+00:00 ┆ Dubai ┆ 210.0 ┆ 434.0 ┆ … ┆ 58.0  ┆ 313.9 ┆ 186.03336 ┆ Təhlükəli    │\n",
              "│ 2024-08-18 20:00:00+00:00 ┆ Dubai ┆ 207.0 ┆ 434.0 ┆ … ┆ 56.5  ┆ 297.1 ┆ 183.1     ┆ Təhlükəli    │\n",
              "│ 2024-08-18 21:00:00+00:00 ┆ Dubai ┆ 206.0 ┆ 434.0 ┆ … ┆ 52.7  ┆ 273.8 ┆ 180.44666 ┆ Təhlükəli    │\n",
              "│ 2024-08-18 22:00:00+00:00 ┆ Dubai ┆ 207.0 ┆ 434.0 ┆ … ┆ 50.9  ┆ 263.6 ┆ 177.885   ┆ Təhlükəli    │\n",
              "│ 2024-08-18 23:00:00+00:00 ┆ Dubai ┆ 211.0 ┆ 434.0 ┆ … ┆ 52.0  ┆ 264.5 ┆ 175.71335 ┆ Təhlükəli    │\n",
              "└───────────────────────────┴───────┴───────┴───────┴───┴───────┴───────┴───────────┴──────────────┘"
            ]
          },
          "execution_count": 181,
          "metadata": {},
          "output_type": "execute_result"
        }
      ],
      "source": [
        "a=data.filter((pl.col('City')=='Dubai') & (pl.col('Date')>=\"2024-08-18 00:00:00+00:00\") & (pl.col('Date')<\"2024-08-19 00:00:00+00:00\"))\n",
        "a.sort('AQI',descending=True)"
      ]
    },
    {
      "cell_type": "code",
      "execution_count": 182,
      "metadata": {
        "colab": {
          "base_uri": "https://localhost:8080/",
          "height": 465
        },
        "id": "ahdn9K67QYKl",
        "outputId": "3dcc1aff-2dcc-4c70-dd8e-71fafdeaddcb"
      },
      "outputs": [
        {
          "data": {
            "image/png": "[encoded data removed]",
            "text/plain": [
              "<Figure size 1000x500 with 1 Axes>"
            ]
          },
          "metadata": {},
          "output_type": "display_data"
        }
      ],
      "source": [
        "import matplotlib.pyplot as plt\n",
        "mean_CO=data.group_by('City').agg(pl.col('CO').mean()).sort('CO',descending=True)\n",
        "mean_CO\n",
        "\n",
        "plt.figure(figsize=(10,5))\n",
        "plt.barh(mean_CO['City'],mean_CO['CO'],color='brown')\n",
        "plt.xlabel('CO')\n",
        "plt.ylabel('City')\n",
        "plt.show()"
      ]
    },
    {
      "cell_type": "code",
      "execution_count": 183,
      "metadata": {
        "colab": {
          "base_uri": "https://localhost:8080/",
          "height": 465
        },
        "id": "HghmKRxQRWrn",
        "outputId": "f467a063-e20c-41a7-e59a-2a31061d7a47"
      },
      "outputs": [
        {
          "data": {
            "image/png": "[encoded data removed]",
            "text/plain": [
              "<Figure size 1000x500 with 1 Axes>"
            ]
          },
          "metadata": {},
          "output_type": "display_data"
        }
      ],
      "source": [
        "import matplotlib.pyplot as plt\n",
        "mean_pm2_5=data.group_by('City').agg(pl.col('PM2.5').mean()).sort('PM2.5',descending=True)\n",
        "\n",
        "plt.figure(figsize=(10,5))\n",
        "plt.bar(mean_pm2_5['City'],mean_pm2_5['PM2.5'],color='brown')\n",
        "plt.xlabel('PM2.5')\n",
        "plt.ylabel('City')\n",
        "plt.show()"
      ]
    },
    {
      "cell_type": "code",
      "execution_count": 184,
      "metadata": {
        "colab": {
          "base_uri": "https://localhost:8080/",
          "height": 465
        },
        "id": "YT3CMQs9Ra_W",
        "outputId": "5805a72b-b239-4cd0-c988-67921268d399"
      },
      "outputs": [
        {
          "data": {
            "image/png": "[encoded data removed]",
            "text/plain": [
              "<Figure size 1000x500 with 1 Axes>"
            ]
          },
          "metadata": {},
          "output_type": "display_data"
        }
      ],
      "source": [
        "import matplotlib.pyplot as plt\n",
        "\n",
        "mean_pm10=data.group_by('City').agg(pl.col('PM10').mean()).sort('PM10',descending=True)\n",
        "mean_pm10\n",
        "\n",
        "plt.figure(figsize=(10,5))\n",
        "plt.bar(mean_pm10['City'],mean_pm10['PM10'],color='brown')\n",
        "plt.xlabel('PM10')\n",
        "plt.ylabel('City')\n",
        "plt.show()"
      ]
    },
    {
      "cell_type": "code",
      "execution_count": 185,
      "metadata": {
        "colab": {
          "base_uri": "https://localhost:8080/",
          "height": 443
        },
        "id": "C2yBlCYJUWW3",
        "outputId": "cfc6dfab-a8cf-4214-8f78-fae967944258"
      },
      "outputs": [
        {
          "data": {
            "text/html": [
              "<div><style>\n",
              ".dataframe > thead > tr,\n",
              ".dataframe > tbody > tr {\n",
              "  text-align: right;\n",
              "  white-space: pre-wrap;\n",
              "}\n",
              "</style>\n",
              "<small>shape: (6_671, 11)</small><table border=\"1\" class=\"dataframe\"><thead><tr><th>Date</th><th>City</th><th>CO</th><th>CO2</th><th>NO2</th><th>SO2</th><th>O3</th><th>PM2.5</th><th>PM10</th><th>AQI</th><th>AQI_category</th></tr><tr><td>str</td><td>str</td><td>f64</td><td>f64</td><td>f64</td><td>f64</td><td>f64</td><td>f64</td><td>f64</td><td>f64</td><td>str</td></tr></thead><tbody><tr><td>&quot;2024-01-01 00:00:00+00:00&quot;</td><td>&quot;Dubai&quot;</td><td>232.0</td><td>434.0</td><td>12.4</td><td>6.8</td><td>82.0</td><td>23.9</td><td>60.3</td><td>68.35834</td><td>&quot;Orta&quot;</td></tr><tr><td>&quot;2024-01-01 01:00:00+00:00&quot;</td><td>&quot;Dubai&quot;</td><td>244.0</td><td>434.0</td><td>15.3</td><td>7.5</td><td>79.0</td><td>22.3</td><td>57.4</td><td>67.695</td><td>&quot;Orta&quot;</td></tr><tr><td>&quot;2024-01-01 02:00:00+00:00&quot;</td><td>&quot;Dubai&quot;</td><td>261.0</td><td>434.0</td><td>19.3</td><td>8.6</td><td>75.0</td><td>22.7</td><td>55.8</td><td>66.945</td><td>&quot;Orta&quot;</td></tr><tr><td>&quot;2024-01-01 03:00:00+00:00&quot;</td><td>&quot;Dubai&quot;</td><td>283.0</td><td>434.0</td><td>22.9</td><td>10.1</td><td>72.0</td><td>25.3</td><td>58.6</td><td>66.168335</td><td>&quot;Orta&quot;</td></tr><tr><td>&quot;2024-01-01 04:00:00+00:00&quot;</td><td>&quot;Dubai&quot;</td><td>317.0</td><td>434.0</td><td>25.9</td><td>12.7</td><td>71.0</td><td>29.6</td><td>64.5</td><td>65.35667</td><td>&quot;Orta&quot;</td></tr><tr><td>&hellip;</td><td>&hellip;</td><td>&hellip;</td><td>&hellip;</td><td>&hellip;</td><td>&hellip;</td><td>&hellip;</td><td>&hellip;</td><td>&hellip;</td><td>&hellip;</td><td>&hellip;</td></tr><tr><td>&quot;2024-12-31 19:00:00+00:00&quot;</td><td>&quot;Dubai&quot;</td><td>1056.0</td><td>529.0</td><td>99.6</td><td>46.9</td><td>15.0</td><td>61.5</td><td>92.9</td><td>84.65333</td><td>&quot;Orta&quot;</td></tr><tr><td>&quot;2024-12-31 20:00:00+00:00&quot;</td><td>&quot;Dubai&quot;</td><td>791.0</td><td>508.0</td><td>105.0</td><td>48.2</td><td>10.0</td><td>61.2</td><td>91.3</td><td>85.19667</td><td>&quot;Orta&quot;</td></tr><tr><td>&quot;2024-12-31 21:00:00+00:00&quot;</td><td>&quot;Dubai&quot;</td><td>567.0</td><td>489.0</td><td>109.3</td><td>50.2</td><td>5.0</td><td>60.1</td><td>90.8</td><td>85.643326</td><td>&quot;Orta&quot;</td></tr><tr><td>&quot;2024-12-31 22:00:00+00:00&quot;</td><td>&quot;Dubai&quot;</td><td>437.0</td><td>477.0</td><td>111.9</td><td>53.6</td><td>3.0</td><td>58.3</td><td>92.7</td><td>85.95333</td><td>&quot;Orta&quot;</td></tr><tr><td>&quot;2024-12-31 23:00:00+00:00&quot;</td><td>&quot;Dubai&quot;</td><td>349.0</td><td>467.0</td><td>113.5</td><td>57.8</td><td>2.0</td><td>56.3</td><td>94.8</td><td>86.13</td><td>&quot;Orta&quot;</td></tr></tbody></table></div>"
            ],
            "text/plain": [
              "shape: (6_671, 11)\n",
              "┌───────────────────────────┬───────┬────────┬───────┬───┬───────┬──────┬───────────┬──────────────┐\n",
              "│ Date                      ┆ City  ┆ CO     ┆ CO2   ┆ … ┆ PM2.5 ┆ PM10 ┆ AQI       ┆ AQI_category │\n",
              "│ ---                       ┆ ---   ┆ ---    ┆ ---   ┆   ┆ ---   ┆ ---  ┆ ---       ┆ ---          │\n",
              "│ str                       ┆ str   ┆ f64    ┆ f64   ┆   ┆ f64   ┆ f64  ┆ f64       ┆ str          │\n",
              "╞═══════════════════════════╪═══════╪════════╪═══════╪═══╪═══════╪══════╪═══════════╪══════════════╡\n",
              "│ 2024-01-01 00:00:00+00:00 ┆ Dubai ┆ 232.0  ┆ 434.0 ┆ … ┆ 23.9  ┆ 60.3 ┆ 68.35834  ┆ Orta         │\n",
              "│ 2024-01-01 01:00:00+00:00 ┆ Dubai ┆ 244.0  ┆ 434.0 ┆ … ┆ 22.3  ┆ 57.4 ┆ 67.695    ┆ Orta         │\n",
              "│ 2024-01-01 02:00:00+00:00 ┆ Dubai ┆ 261.0  ┆ 434.0 ┆ … ┆ 22.7  ┆ 55.8 ┆ 66.945    ┆ Orta         │\n",
              "│ 2024-01-01 03:00:00+00:00 ┆ Dubai ┆ 283.0  ┆ 434.0 ┆ … ┆ 25.3  ┆ 58.6 ┆ 66.168335 ┆ Orta         │\n",
              "│ 2024-01-01 04:00:00+00:00 ┆ Dubai ┆ 317.0  ┆ 434.0 ┆ … ┆ 29.6  ┆ 64.5 ┆ 65.35667  ┆ Orta         │\n",
              "│ …                         ┆ …     ┆ …      ┆ …     ┆ … ┆ …     ┆ …    ┆ …         ┆ …            │\n",
              "│ 2024-12-31 19:00:00+00:00 ┆ Dubai ┆ 1056.0 ┆ 529.0 ┆ … ┆ 61.5  ┆ 92.9 ┆ 84.65333  ┆ Orta         │\n",
              "│ 2024-12-31 20:00:00+00:00 ┆ Dubai ┆ 791.0  ┆ 508.0 ┆ … ┆ 61.2  ┆ 91.3 ┆ 85.19667  ┆ Orta         │\n",
              "│ 2024-12-31 21:00:00+00:00 ┆ Dubai ┆ 567.0  ┆ 489.0 ┆ … ┆ 60.1  ┆ 90.8 ┆ 85.643326 ┆ Orta         │\n",
              "│ 2024-12-31 22:00:00+00:00 ┆ Dubai ┆ 437.0  ┆ 477.0 ┆ … ┆ 58.3  ┆ 92.7 ┆ 85.95333  ┆ Orta         │\n",
              "│ 2024-12-31 23:00:00+00:00 ┆ Dubai ┆ 349.0  ┆ 467.0 ┆ … ┆ 56.3  ┆ 94.8 ┆ 86.13     ┆ Orta         │\n",
              "└───────────────────────────┴───────┴────────┴───────┴───┴───────┴──────┴───────────┴──────────────┘"
            ]
          },
          "execution_count": 185,
          "metadata": {},
          "output_type": "execute_result"
        }
      ],
      "source": [
        "data.filter((pl.col('City')=='Dubai') & (pl.col('AQI')<=100))"
      ]
    },
    {
      "cell_type": "code",
      "execution_count": 186,
      "metadata": {
        "colab": {
          "base_uri": "https://localhost:8080/",
          "height": 286
        },
        "id": "Ntetk56tTwgn",
        "outputId": "d09f3c06-3847-4f80-ef66-065e2bf1e912"
      },
      "outputs": [
        {
          "data": {
            "text/html": [
              "<div><style>\n",
              ".dataframe > thead > tr,\n",
              ".dataframe > tbody > tr {\n",
              "  text-align: right;\n",
              "  white-space: pre-wrap;\n",
              "}\n",
              "</style>\n",
              "<small>shape: (6, 2)</small><table border=\"1\" class=\"dataframe\"><thead><tr><th>City</th><th>AQI</th></tr><tr><td>str</td><td>f64</td></tr></thead><tbody><tr><td>&quot;Brasilia&quot;</td><td>24.749358</td></tr><tr><td>&quot;New York&quot;</td><td>32.878247</td></tr><tr><td>&quot;Cairo&quot;</td><td>52.489745</td></tr><tr><td>&quot;Dubai&quot;</td><td>85.113722</td></tr><tr><td>&quot;Sydney&quot;</td><td>25.767748</td></tr><tr><td>&quot;London&quot;</td><td>27.097212</td></tr></tbody></table></div>"
            ],
            "text/plain": [
              "shape: (6, 2)\n",
              "┌──────────┬───────────┐\n",
              "│ City     ┆ AQI       │\n",
              "│ ---      ┆ ---       │\n",
              "│ str      ┆ f64       │\n",
              "╞══════════╪═══════════╡\n",
              "│ Brasilia ┆ 24.749358 │\n",
              "│ New York ┆ 32.878247 │\n",
              "│ Cairo    ┆ 52.489745 │\n",
              "│ Dubai    ┆ 85.113722 │\n",
              "│ Sydney   ┆ 25.767748 │\n",
              "│ London   ┆ 27.097212 │\n",
              "└──────────┴───────────┘"
            ]
          },
          "execution_count": 186,
          "metadata": {},
          "output_type": "execute_result"
        }
      ],
      "source": [
        "data.group_by('City').agg(pl.col('AQI').mean())"
      ]
    },
    {
      "cell_type": "code",
      "execution_count": 187,
      "metadata": {
        "colab": {
          "base_uri": "https://localhost:8080/",
          "height": 286
        },
        "id": "ITHKOUZ_U9Im",
        "outputId": "d3d9a180-1107-48bd-861e-f632880dd383"
      },
      "outputs": [
        {
          "data": {
            "text/html": [
              "<div><style>\n",
              ".dataframe > thead > tr,\n",
              ".dataframe > tbody > tr {\n",
              "  text-align: right;\n",
              "  white-space: pre-wrap;\n",
              "}\n",
              "</style>\n",
              "<small>shape: (6, 4)</small><table border=\"1\" class=\"dataframe\"><thead><tr><th>Date</th><th>City</th><th>AQI</th><th>AQI_category</th></tr><tr><td>str</td><td>str</td><td>f64</td><td>str</td></tr></thead><tbody><tr><td>&quot;2024-02-21 01:00:00+00:00&quot;</td><td>&quot;Brasilia&quot;</td><td>4.45</td><td>&quot;Yaxşı&quot;</td></tr><tr><td>&quot;2024-06-02 15:00:00+00:00&quot;</td><td>&quot;Sydney&quot;</td><td>8.8</td><td>&quot;Yaxşı&quot;</td></tr><tr><td>&quot;2024-01-01 00:00:00+00:00&quot;</td><td>&quot;London&quot;</td><td>9.070833</td><td>&quot;Yaxşı&quot;</td></tr><tr><td>&quot;2024-11-22 16:00:00+00:00&quot;</td><td>&quot;New York&quot;</td><td>10.35</td><td>&quot;Yaxşı&quot;</td></tr><tr><td>&quot;2024-10-21 00:00:00+00:00&quot;</td><td>&quot;Cairo&quot;</td><td>20.8</td><td>&quot;Yaxşı&quot;</td></tr><tr><td>&quot;2024-10-17 21:00:00+00:00&quot;</td><td>&quot;Dubai&quot;</td><td>29.6</td><td>&quot;Yaxşı&quot;</td></tr></tbody></table></div>"
            ],
            "text/plain": [
              "shape: (6, 4)\n",
              "┌───────────────────────────┬──────────┬──────────┬──────────────┐\n",
              "│ Date                      ┆ City     ┆ AQI      ┆ AQI_category │\n",
              "│ ---                       ┆ ---      ┆ ---      ┆ ---          │\n",
              "│ str                       ┆ str      ┆ f64      ┆ str          │\n",
              "╞═══════════════════════════╪══════════╪══════════╪══════════════╡\n",
              "│ 2024-02-21 01:00:00+00:00 ┆ Brasilia ┆ 4.45     ┆ Yaxşı        │\n",
              "│ 2024-06-02 15:00:00+00:00 ┆ Sydney   ┆ 8.8      ┆ Yaxşı        │\n",
              "│ 2024-01-01 00:00:00+00:00 ┆ London   ┆ 9.070833 ┆ Yaxşı        │\n",
              "│ 2024-11-22 16:00:00+00:00 ┆ New York ┆ 10.35    ┆ Yaxşı        │\n",
              "│ 2024-10-21 00:00:00+00:00 ┆ Cairo    ┆ 20.8     ┆ Yaxşı        │\n",
              "│ 2024-10-17 21:00:00+00:00 ┆ Dubai    ┆ 29.6     ┆ Yaxşı        │\n",
              "└───────────────────────────┴──────────┴──────────┴──────────────┘"
            ]
          },
          "execution_count": 187,
          "metadata": {},
          "output_type": "execute_result"
        }
      ],
      "source": [
        "import polars.selectors as cs\n",
        "low_aqi_days = data.sort('AQI').unique('City').sort('AQI').select(pl.exclude('CO','CO2','NO2','SO2','O3','PM2.5','PM10'))\n",
        "low_aqi_days\n",
        "\n",
        "#AQI az olan günlər və həmin gün AQI"
      ]
    },
    {
      "cell_type": "code",
      "execution_count": 202,
      "metadata": {
        "colab": {
          "base_uri": "https://localhost:8080/",
          "height": 286
        },
        "id": "huB3eLONWfI4",
        "outputId": "e1a704e5-b3e9-405f-8551-4d751e9be948"
      },
      "outputs": [
        {
          "data": {
            "text/html": [
              "<div><style>\n",
              ".dataframe > thead > tr,\n",
              ".dataframe > tbody > tr {\n",
              "  text-align: right;\n",
              "  white-space: pre-wrap;\n",
              "}\n",
              "</style>\n",
              "<small>shape: (6, 4)</small><table border=\"1\" class=\"dataframe\"><thead><tr><th>Date</th><th>City</th><th>AQI</th><th>AQI_category</th></tr><tr><td>str</td><td>str</td><td>f64</td><td>str</td></tr></thead><tbody><tr><td>&quot;2024-08-18 04:00:00+00:00&quot;</td><td>&quot;Dubai&quot;</td><td>196.63333</td><td>&quot;Təhlükəli&quot;</td></tr><tr><td>&quot;2024-02-13 16:00:00+00:00&quot;</td><td>&quot;Cairo&quot;</td><td>114.68001</td><td>&quot;Qeyri-sağlam&quot;</td></tr><tr><td>&quot;2024-12-27 23:00:00+00:00&quot;</td><td>&quot;New York&quot;</td><td>81.240005</td><td>&quot;Orta&quot;</td></tr><tr><td>&quot;2024-12-13 05:00:00+00:00&quot;</td><td>&quot;Sydney&quot;</td><td>72.36363</td><td>&quot;Orta&quot;</td></tr><tr><td>&quot;2024-11-06 09:00:00+00:00&quot;</td><td>&quot;London&quot;</td><td>70.37001</td><td>&quot;Orta&quot;</td></tr><tr><td>&quot;2024-09-05 18:00:00+00:00&quot;</td><td>&quot;Brasilia&quot;</td><td>68.0</td><td>&quot;Orta&quot;</td></tr></tbody></table></div>"
            ],
            "text/plain": [
              "shape: (6, 4)\n",
              "┌───────────────────────────┬──────────┬───────────┬──────────────┐\n",
              "│ Date                      ┆ City     ┆ AQI       ┆ AQI_category │\n",
              "│ ---                       ┆ ---      ┆ ---       ┆ ---          │\n",
              "│ str                       ┆ str      ┆ f64       ┆ str          │\n",
              "╞═══════════════════════════╪══════════╪═══════════╪══════════════╡\n",
              "│ 2024-08-18 04:00:00+00:00 ┆ Dubai    ┆ 196.63333 ┆ Təhlükəli    │\n",
              "│ 2024-02-13 16:00:00+00:00 ┆ Cairo    ┆ 114.68001 ┆ Qeyri-sağlam │\n",
              "│ 2024-12-27 23:00:00+00:00 ┆ New York ┆ 81.240005 ┆ Orta         │\n",
              "│ 2024-12-13 05:00:00+00:00 ┆ Sydney   ┆ 72.36363  ┆ Orta         │\n",
              "│ 2024-11-06 09:00:00+00:00 ┆ London   ┆ 70.37001  ┆ Orta         │\n",
              "│ 2024-09-05 18:00:00+00:00 ┆ Brasilia ┆ 68.0      ┆ Orta         │\n",
              "└───────────────────────────┴──────────┴───────────┴──────────────┘"
            ]
          },
          "execution_count": 202,
          "metadata": {},
          "output_type": "execute_result"
        }
      ],
      "source": [
        "high_aqi_days = data.sort('AQI').sort('AQI',descending=True).unique('City').sort('AQI',descending=True).select(pl.exclude('CO','CO2','NO2','SO2','O3','PM2.5','PM10'))\n",
        "high_aqi_days\n",
        "\n",
        "#AQI çox olan günlər və həmin gün AQI"
      ]
    },
    {
      "cell_type": "code",
      "execution_count": 227,
      "metadata": {
        "id": "aYNcCt_GeZZg"
      },
      "outputs": [],
      "source": [
        "AQI_bigger_150=data.filter(pl.col('AQI')>=150)"
      ]
    },
    {
      "cell_type": "code",
      "execution_count": 228,
      "metadata": {
        "colab": {
          "base_uri": "https://localhost:8080/",
          "height": 164
        },
        "id": "SK0MUEu7ep48",
        "outputId": "7148ed0b-2269-400c-8372-6d28409171fb"
      },
      "outputs": [
        {
          "name": "stderr",
          "output_type": "stream",
          "text": [
            "<ipython-input-228-bfe49ac000ba>:1: DeprecationWarning: `GroupBy.count` is deprecated. It has been renamed to `len`.\n",
            "  AQI_bigger_150.filter((pl.col('Date')>='2024-01-01 00:00:00+00:00') & (pl.col('Date')<='2024-12-31 00:00:00+00:00')).group_by('City').count()\n"
          ]
        },
        {
          "data": {
            "text/html": [
              "<div><style>\n",
              ".dataframe > thead > tr,\n",
              ".dataframe > tbody > tr {\n",
              "  text-align: right;\n",
              "  white-space: pre-wrap;\n",
              "}\n",
              "</style>\n",
              "<small>shape: (1, 2)</small><table border=\"1\" class=\"dataframe\"><thead><tr><th>City</th><th>count</th></tr><tr><td>str</td><td>u32</td></tr></thead><tbody><tr><td>&quot;Dubai&quot;</td><td>217</td></tr></tbody></table></div>"
            ],
            "text/plain": [
              "shape: (1, 2)\n",
              "┌───────┬───────┐\n",
              "│ City  ┆ count │\n",
              "│ ---   ┆ ---   │\n",
              "│ str   ┆ u32   │\n",
              "╞═══════╪═══════╡\n",
              "│ Dubai ┆ 217   │\n",
              "└───────┴───────┘"
            ]
          },
          "execution_count": 228,
          "metadata": {},
          "output_type": "execute_result"
        }
      ],
      "source": [
        "AQI_bigger_150.filter((pl.col('Date')>='2024-01-01 00:00:00+00:00') & (pl.col('Date')<='2024-12-31 00:00:00+00:00')).group_by('City').count()"
      ]
    }
  ],
  "metadata": {
    "colab": {
      "provenance": []
    },
    "kernelspec": {
      "display_name": "Python 3",
      "name": "python3"
    },
    "language_info": {
      "name": "python"
    }
  },
  "nbformat": 4,
  "nbformat_minor": 0
}
